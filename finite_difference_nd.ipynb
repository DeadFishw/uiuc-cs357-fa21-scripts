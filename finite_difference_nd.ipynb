{
 "cells": [
  {
   "cell_type": "code",
   "execution_count": 2,
   "metadata": {},
   "outputs": [],
   "source": [
    "import numpy as np\n",
    "import sympy as sp\n",
    "import numpy.linalg as la"
   ]
  },
  {
   "cell_type": "code",
   "execution_count": 3,
   "metadata": {},
   "outputs": [],
   "source": [
    "def finite_difference_nd(f_str, s_str, xvec, h, scheme=0):\n",
    "    '''\n",
    "    scheme: 0 for forward, 1 for backward, 2 for central\n",
    "    '''\n",
    "    formula = sp.sympify(f_str)\n",
    "    symbols = sp.symbols(s_str)\n",
    "    result = []\n",
    "    for i in range(len(xvec)):\n",
    "        temp = formula # This kind of copy is enough\n",
    "        temp_plus = formula\n",
    "        temp_minus = formula\n",
    "        for j in range(len(symbols)):\n",
    "            temp = temp.subs(symbols[j], xvec[j])\n",
    "            if i == j:\n",
    "                temp_plus = temp_plus.subs(symbols[j], xvec[j]+h)\n",
    "                temp_minus = temp_minus.subs(symbols[j], xvec[j]-h)\n",
    "            else:\n",
    "                temp_plus = temp_plus.subs(symbols[j], xvec[j])\n",
    "                temp_minus = temp_minus.subs(symbols[j], xvec[j])\n",
    "        if scheme == 0:\n",
    "            result.append(float(((temp_plus-temp)/h).evalf()))\n",
    "        elif scheme == 1:\n",
    "            result.append(float(((temp-temp_minus)/h).evalf()))\n",
    "        else:\n",
    "            result.append(float(((temp_plus-temp_minus)/h/2).evalf()))\n",
    "    return result"
   ]
  },
  {
   "cell_type": "code",
   "execution_count": 4,
   "metadata": {},
   "outputs": [],
   "source": [
    "# @Before\n",
    "tol = 10**-7"
   ]
  },
  {
   "cell_type": "code",
   "execution_count": 5,
   "metadata": {},
   "outputs": [],
   "source": [
    "# Test case backward finite difference method\n",
    "expected = np.array([1, 2.9, 2])\n",
    "actual = np.array(finite_difference_nd('x*z+y**2*z+y', 'x y z', [1, 1, 1], 0.1, scheme=1))\n",
    "assert la.norm(expected - actual) < tol"
   ]
  },
  {
   "cell_type": "code",
   "execution_count": 7,
   "metadata": {},
   "outputs": [],
   "source": [
    "# Test case forward finite difference method\n",
    "expected = np.array([1, 3.1, 2])\n",
    "actual = finite_difference_nd('x*y*z+y*y+z', 'x y z', [1, 1, 1], 0.1, 0)\n",
    "assert la.norm(expected - actual) < tol"
   ]
  },
  {
   "cell_type": "code",
   "execution_count": 8,
   "metadata": {},
   "outputs": [
    {
     "data": {
      "text/plain": [
       "[4.0000000000000036, 1.0000000000000009, 4.000000000000001]"
      ]
     },
     "execution_count": 8,
     "metadata": {},
     "output_type": "execute_result"
    }
   ],
   "source": [
    "# Workspace\n",
    "finite_difference_nd('x**2*z**2+x*y+x*z**2', 'x y z', [1, 1, 1], 0.1, 2)"
   ]
  },
  {
   "cell_type": "code",
   "execution_count": null,
   "metadata": {},
   "outputs": [],
   "source": []
  }
 ],
 "metadata": {
  "kernelspec": {
   "display_name": "Python 3",
   "language": "python",
   "name": "python3"
  },
  "language_info": {
   "codemirror_mode": {
    "name": "ipython",
    "version": 3
   },
   "file_extension": ".py",
   "mimetype": "text/x-python",
   "name": "python",
   "nbconvert_exporter": "python",
   "pygments_lexer": "ipython3",
   "version": "3.8.12"
  }
 },
 "nbformat": 4,
 "nbformat_minor": 4
}
