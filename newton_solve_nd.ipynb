{
 "cells": [
  {
   "cell_type": "code",
   "execution_count": 1,
   "metadata": {},
   "outputs": [],
   "source": [
    "import numpy as np\n",
    "import numpy.linalg as la\n",
    "import sympy as sp"
   ]
  },
  {
   "cell_type": "code",
   "execution_count": 2,
   "metadata": {},
   "outputs": [],
   "source": [
    "def subs_all(formula, variables, values):\n",
    "    '''\n",
    "    You know what, it's getting to the point where this function\n",
    "    is necessary\n",
    "    '''\n",
    "    result = formula\n",
    "    for i in range(len(values)):\n",
    "        result = result.subs(variables[i], values[i])\n",
    "    return float(result.evalf())"
   ]
  },
  {
   "cell_type": "code",
   "execution_count": 3,
   "metadata": {},
   "outputs": [],
   "source": [
    "# Generic Test Case 1 for subs_all\n",
    "formula = sp.sympify('5*x**2+6*y**2+4*(z/2)**2')\n",
    "variables = sp.symbols('x y z')\n",
    "values = [1, 1, 1]\n",
    "expected = 12\n",
    "actual = subs_all(formula, variables, values)\n",
    "assert expected==actual"
   ]
  },
  {
   "cell_type": "code",
   "execution_count": 4,
   "metadata": {},
   "outputs": [],
   "source": [
    "def calculated_jacobian(fs, variables, x_k):\n",
    "    '''\n",
    "    fs need to EQUAL TO ZERO!\n",
    "    '''\n",
    "    size = len(fs)\n",
    "    result = np.zeros((size, size))\n",
    "    for i in range(size):\n",
    "        for j in range(size):\n",
    "            result[i][j] = subs_all(sp.diff(fs[i], variables[j]), variables, x_k)\n",
    "    return result    \n",
    "def newton_nd_step(x_prev, f_strs, var_str):\n",
    "    '''\n",
    "    Given x_k, string of functions equal to 0, and string for\n",
    "    variables, calculate the parameter for the next iteration\n",
    "    of Newton's method for solving ND non-linear system of equations\n",
    "    '''\n",
    "    fs = [sp.sympify(f_str) for f_str in f_strs]\n",
    "    variables = sp.symbols(var_str)\n",
    "    jac = calculated_jacobian(fs, variables, x_prev)\n",
    "    f_vals = np.array([subs_all(f, variables, x_prev) for f in fs])\n",
    "    s = la.solve(jac, -1*f_vals)\n",
    "    return jac, x_prev+s"
   ]
  },
  {
   "cell_type": "code",
   "execution_count": 52,
   "metadata": {},
   "outputs": [],
   "source": [
    "# Generic Test Case 1 for newton_nd_step\n",
    "expected = np.array([-3/2, -1/6])\n",
    "jac, actual = newton_nd_step([-2, 0], ['3*x*y-1', 'x**3+y**2+2'], 'x y')\n",
    "tol = 10**-7\n",
    "assert la.norm(expected - actual, 2) < tol"
   ]
  },
  {
   "cell_type": "code",
   "execution_count": 55,
   "metadata": {},
   "outputs": [],
   "source": [
    "# Generic Test Case 2 for newton_nd_step\n",
    "expected_jac = np.array([[8, -10], [12, 3]])\n",
    "expected = np.array([1.25694444, -0.69444444])\n",
    "jac, actual = newton_nd_step([1, -1], ['2*x**4+5*y**2-6', '4*x**3+3*y-5'], 'x y')\n",
    "tol = 10**-7\n",
    "assert la.norm(expected_jac - jac) < tol\n",
    "assert la.norm(expected - actual) < tol"
   ]
  },
  {
   "cell_type": "code",
   "execution_count": 6,
   "metadata": {},
   "outputs": [
    {
     "data": {
      "text/plain": [
       "(array([[0., 4.],\n",
       "        [3., 0.]]),\n",
       " array([0.  , 0.75]))"
      ]
     },
     "execution_count": 6,
     "metadata": {},
     "output_type": "execute_result"
    }
   ],
   "source": [
    "# Workspace\n",
    "f_strs = ['4*x*y-3', 'x**3+y**2+2']\n",
    "x_prev = [1, 0]\n",
    "var_str = 'x y'\n",
    "newton_nd_step(x_prev, f_strs, var_str)"
   ]
  },
  {
   "cell_type": "code",
   "execution_count": null,
   "metadata": {},
   "outputs": [],
   "source": []
  }
 ],
 "metadata": {
  "kernelspec": {
   "display_name": "Python 3",
   "language": "python",
   "name": "python3"
  },
  "language_info": {
   "codemirror_mode": {
    "name": "ipython",
    "version": 3
   },
   "file_extension": ".py",
   "mimetype": "text/x-python",
   "name": "python",
   "nbconvert_exporter": "python",
   "pygments_lexer": "ipython3",
   "version": "3.8.12"
  }
 },
 "nbformat": 4,
 "nbformat_minor": 4
}
