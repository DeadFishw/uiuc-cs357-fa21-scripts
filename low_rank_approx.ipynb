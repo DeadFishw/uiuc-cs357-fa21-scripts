{
 "cells": [
  {
   "cell_type": "code",
   "execution_count": 1,
   "metadata": {},
   "outputs": [],
   "source": [
    "import numpy as np\n",
    "import numpy.linalg as la"
   ]
  },
  {
   "cell_type": "code",
   "execution_count": 15,
   "metadata": {},
   "outputs": [],
   "source": [
    "def low_rank_approx(U, sigma, Vt, k):\n",
    "    '''\n",
    "    I'll assume that sigma is full\n",
    "    '''\n",
    "    res = np.zeros((U.shape[0], Vt.shape[1]))\n",
    "    for i in range(k):\n",
    "        res += np.outer(U[:,i], Vt[i,:])*sigma[i,i]\n",
    "    return res"
   ]
  }
 ],
 "metadata": {
  "kernelspec": {
   "display_name": "Python 3",
   "language": "python",
   "name": "python3"
  },
  "language_info": {
   "codemirror_mode": {
    "name": "ipython",
    "version": 3
   },
   "file_extension": ".py",
   "mimetype": "text/x-python",
   "name": "python",
   "nbconvert_exporter": "python",
   "pygments_lexer": "ipython3",
   "version": "3.8.12"
  }
 },
 "nbformat": 4,
 "nbformat_minor": 4
}
