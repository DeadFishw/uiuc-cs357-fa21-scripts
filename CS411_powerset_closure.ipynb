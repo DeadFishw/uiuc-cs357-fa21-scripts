{
 "cells": [
  {
   "cell_type": "code",
   "execution_count": 12,
   "metadata": {},
   "outputs": [],
   "source": [
    "import timeit"
   ]
  },
  {
   "cell_type": "code",
   "execution_count": 13,
   "metadata": {},
   "outputs": [],
   "source": [
    "# Copied without modification from:\n",
    "# https://stackoverflow.com/questions/1482308/how-to-get-all-subsets-of-a-set-powerset\n",
    "def powerset(seq):\n",
    "    if len(seq) <= 1:\n",
    "        yield seq\n",
    "        yield []\n",
    "    else:\n",
    "        for item in powerset(seq[1:]):\n",
    "            yield [seq[0]]+item\n",
    "            yield item"
   ]
  },
  {
   "cell_type": "code",
   "execution_count": 14,
   "metadata": {},
   "outputs": [],
   "source": [
    "# Define relation and functional dependencies\n",
    "attributes = ['A', 'B', 'C', 'D', 'E']\n",
    "# Make sure each string is in LEXIGRAPHICAL ORDER, this is IMPORTANT\n",
    "# Make sure RHS is singleton\n",
    "functional_dependencies = {'D': 'F', 'B': 'A', 'BD': 'E', 'A': 'F'}"
   ]
  },
  {
   "cell_type": "code",
   "execution_count": 15,
   "metadata": {},
   "outputs": [],
   "source": [
    "# All the closures that we care about\n",
    "powerset_without_empty_set = sorted([i for i in powerset(attributes)])[1:]"
   ]
  },
  {
   "cell_type": "code",
   "execution_count": 16,
   "metadata": {},
   "outputs": [],
   "source": [
    "# Reference for yourself: sort a string in lexigraphical order\n",
    "#sorted(['S', 'A', 'W', 'T', 'P'], key=str.lower) == ['A', 'P', 'S', 'T', 'W']"
   ]
  },
  {
   "cell_type": "code",
   "execution_count": 17,
   "metadata": {},
   "outputs": [],
   "source": [
    "def calc_closure(ls_of_attr):\n",
    "    closure = sorted(ls_of_attr, key=str.lower)\n",
    "    key_combinations = sorted([i for i in powerset(closure)])[1:]\n",
    "    something_new = True\n",
    "    while something_new:\n",
    "        something_new = False\n",
    "        for i in key_combinations:\n",
    "            temp_key = ''.join(sorted(i, key=str.lower))\n",
    "            if temp_key in functional_dependencies:\n",
    "                rhs = functional_dependencies[temp_key]\n",
    "                if rhs not in closure:\n",
    "                    # If found something, you'll have to recalculate powerset\n",
    "                    closure.append(rhs)\n",
    "                    key_combinations = sorted([i for i in powerset(closure)])[1:]\n",
    "                    something_new = True\n",
    "    return closure"
   ]
  },
  {
   "cell_type": "code",
   "execution_count": 18,
   "metadata": {},
   "outputs": [],
   "source": [
    "# Change it to your liking to \n",
    "def make_closure_str(ls):\n",
    "    return '{' + ''.join([i for i in ls]) + '}'"
   ]
  },
  {
   "cell_type": "code",
   "execution_count": 19,
   "metadata": {},
   "outputs": [
    {
     "name": "stdout",
     "output_type": "stream",
     "text": [
      "{A}+ = {AF}\n",
      "{AB}+ = {ABF}\n",
      "{ABC}+ = {ABCF}\n",
      "{ABCD}+ = {ABCDFE}\n",
      "{ABCDE}+ = {ABCDEF}\n",
      "{ABCE}+ = {ABCEF}\n",
      "{ABD}+ = {ABDFE}\n",
      "{ABDE}+ = {ABDEF}\n",
      "{ABE}+ = {ABEF}\n",
      "{AC}+ = {ACF}\n",
      "{ACD}+ = {ACDF}\n",
      "{ACDE}+ = {ACDEF}\n",
      "{ACE}+ = {ACEF}\n",
      "{AD}+ = {ADF}\n",
      "{ADE}+ = {ADEF}\n",
      "{AE}+ = {AEF}\n",
      "{B}+ = {BAF}\n",
      "{BC}+ = {BCAF}\n",
      "{BCD}+ = {BCDAEF}\n",
      "{BCDE}+ = {BCDEAF}\n",
      "{BCE}+ = {BCEAF}\n",
      "{BD}+ = {BDAEF}\n",
      "{BDE}+ = {BDEAF}\n",
      "{BE}+ = {BEAF}\n",
      "{C}+ = {C}\n",
      "{CD}+ = {CDF}\n",
      "{CDE}+ = {CDEF}\n",
      "{CE}+ = {CE}\n",
      "{D}+ = {DF}\n",
      "{DE}+ = {DEF}\n",
      "{E}+ = {E}\n",
      "Time Elapsed:  0.005026899998483714\n"
     ]
    }
   ],
   "source": [
    "start = timeit.default_timer()\n",
    "for i in powerset_without_empty_set:\n",
    "    print('{{{0}}}+ = {1}'.format(''.join(i), make_closure_str(calc_closure(i))))\n",
    "stop = timeit.default_timer()\n",
    "print('Time Elapsed: ', stop - start)"
   ]
  },
  {
   "cell_type": "code",
   "execution_count": 10,
   "metadata": {},
   "outputs": [
    {
     "name": "stdout",
     "output_type": "stream",
     "text": [
      "['A', 'B', 'C', 'D']\n",
      "['A', 'B', 'C', 'D', 'E']\n",
      "['A', 'B', 'C', 'D', 'E', 'F']\n",
      "['A', 'B', 'C', 'D', 'F']\n",
      "['B', 'C', 'D']\n",
      "['B', 'C', 'D', 'E']\n",
      "['B', 'C', 'D', 'E', 'F']\n",
      "['B', 'C', 'D', 'F']\n"
     ]
    }
   ],
   "source": [
    "# Print all the superkeys\n",
    "# 尚未封装成函数\n",
    "superkeys = []\n",
    "for i in powerset_without_empty_set:\n",
    "    if len(calc_closure(i)) == len(attributes):\n",
    "        superkeys.append(i)\n",
    "        print(i)"
   ]
  },
  {
   "cell_type": "code",
   "execution_count": 11,
   "metadata": {},
   "outputs": [
    {
     "name": "stdout",
     "output_type": "stream",
     "text": [
      "['B', 'C', 'D']\n"
     ]
    }
   ],
   "source": [
    "# 这里将会进一步滤出所有candidate key\n",
    "# 通过定义得知，只有子集并非superkey时\n",
    "for superkey in superkeys:\n",
    "    ps = [i for i in powerset(superkey)][1:-1]\n",
    "    has_sub = False\n",
    "    for i in ps:\n",
    "        if i in superkeys:\n",
    "            has_sub = True\n",
    "    if not has_sub:\n",
    "        print(superkey)"
   ]
  },
  {
   "cell_type": "code",
   "execution_count": null,
   "metadata": {},
   "outputs": [],
   "source": []
  }
 ],
 "metadata": {
  "kernelspec": {
   "display_name": "Python 3",
   "language": "python",
   "name": "python3"
  },
  "language_info": {
   "codemirror_mode": {
    "name": "ipython",
    "version": 3
   },
   "file_extension": ".py",
   "mimetype": "text/x-python",
   "name": "python",
   "nbconvert_exporter": "python",
   "pygments_lexer": "ipython3",
   "version": "3.8.12"
  }
 },
 "nbformat": 4,
 "nbformat_minor": 4
}
