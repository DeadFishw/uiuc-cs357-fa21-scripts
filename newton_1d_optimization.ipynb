{
 "cells": [
  {
   "cell_type": "code",
   "execution_count": 4,
   "metadata": {},
   "outputs": [],
   "source": [
    "import numpy as np\n",
    "import sympy as sp"
   ]
  },
  {
   "cell_type": "code",
   "execution_count": 5,
   "metadata": {},
   "outputs": [],
   "source": [
    "def newton_1d_step(f_str, x_prev):\n",
    "    x = sp.symbols('x') # We will assume that you use the symbol x\n",
    "    formula = sp.sympify(f_str)\n",
    "    df = sp.diff(formula, x)\n",
    "    ddf = sp.diff(df, x)\n",
    "    return x_prev - df.subs(x, x_prev) / ddf.subs(x, x_prev)"
   ]
  },
  {
   "cell_type": "code",
   "execution_count": 6,
   "metadata": {},
   "outputs": [],
   "source": [
    "# Test case\n",
    "tol = 10**-7\n",
    "expected = 0.239999999617\n",
    "actual = newton_1d_step('4*sin(x**6)', 0.3)\n",
    "assert abs(expected-actual) < tol"
   ]
  }
 ],
 "metadata": {
  "kernelspec": {
   "display_name": "Python 3",
   "language": "python",
   "name": "python3"
  },
  "language_info": {
   "codemirror_mode": {
    "name": "ipython",
    "version": 3
   },
   "file_extension": ".py",
   "mimetype": "text/x-python",
   "name": "python",
   "nbconvert_exporter": "python",
   "pygments_lexer": "ipython3",
   "version": "3.8.12"
  }
 },
 "nbformat": 4,
 "nbformat_minor": 4
}
