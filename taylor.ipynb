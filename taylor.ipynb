{
 "cells": [
  {
   "cell_type": "code",
   "execution_count": 3,
   "metadata": {},
   "outputs": [],
   "source": [
    "import sympy as sp\n",
    "import numpy as np"
   ]
  },
  {
   "cell_type": "code",
   "execution_count": 4,
   "metadata": {},
   "outputs": [],
   "source": [
    "def factorial(n):\n",
    "    if n < 2:\n",
    "        return 1\n",
    "    else:\n",
    "        return n*factorial(n-1)"
   ]
  },
  {
   "cell_type": "code",
   "execution_count": 5,
   "metadata": {},
   "outputs": [],
   "source": [
    "def n_degree_taylor(formula, x, x_0, n):\n",
    "    '''\n",
    "    Given the analytic expression, x and x_0, calculate\n",
    "    its nth degree Taylor polynomial\n",
    "    Note: Variable is defaulted to x\n",
    "    '''\n",
    "    var_x = sp.symbols('x')\n",
    "    acc = 0\n",
    "    # Be careful, n+1 because it's up to n\n",
    "    for i in range(n+1):\n",
    "        acc += sp.diff(formula, var_x, i).subs(var_x, x_0)/factorial(i)*(x-x_0)**i\n",
    "    return float(acc)"
   ]
  },
  {
   "cell_type": "code",
   "execution_count": 6,
   "metadata": {},
   "outputs": [],
   "source": [
    "# Generic Test for n_degree_taylor\n",
    "expected = -2\n",
    "actual = n_degree_taylor('-sin(x)', 2, 0, 2)\n",
    "tol = 10**-7\n",
    "assert abs(expected-actual) < tol"
   ]
  },
  {
   "cell_type": "code",
   "execution_count": 10,
   "metadata": {},
   "outputs": [],
   "source": [
    "def empirical_taylor(derivatives, x, x_0):\n",
    "    '''\n",
    "    Given empirical derivatives f(x_0), f'(x_0), f''(x_0)...\n",
    "    calculate it's taylor series with this empirical data\n",
    "    ASSUME FROM 0th derivative (which is the original function)\n",
    "    '''\n",
    "    result = 0\n",
    "    for i in range(len(derivatives)):\n",
    "        result += derivatives[i]*(x-x_0)**i/factorial(i)\n",
    "    return result"
   ]
  },
  {
   "cell_type": "code",
   "execution_count": 12,
   "metadata": {},
   "outputs": [],
   "source": [
    "# Generic Test Case for empirical_taylor\n",
    "expected = -4/3\n",
    "actual = empirical_taylor([8, -8, 4, -2, 2], 2, 0)\n",
    "tol = 10**-7\n",
    "assert abs(expected-actual) < tol"
   ]
  },
  {
   "cell_type": "code",
   "execution_count": null,
   "metadata": {},
   "outputs": [],
   "source": [
    "# Workspace"
   ]
  }
 ],
 "metadata": {
  "kernelspec": {
   "display_name": "Python 3",
   "language": "python",
   "name": "python3"
  },
  "language_info": {
   "codemirror_mode": {
    "name": "ipython",
    "version": 3
   },
   "file_extension": ".py",
   "mimetype": "text/x-python",
   "name": "python",
   "nbconvert_exporter": "python",
   "pygments_lexer": "ipython3",
   "version": "3.8.12"
  }
 },
 "nbformat": 4,
 "nbformat_minor": 4
}
