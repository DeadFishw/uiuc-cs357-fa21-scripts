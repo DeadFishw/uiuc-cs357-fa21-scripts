{
 "cells": [
  {
   "cell_type": "code",
   "execution_count": 2,
   "metadata": {},
   "outputs": [],
   "source": [
    "import numpy as np\n",
    "import numpy.linalg as la\n",
    "import sympy as sp"
   ]
  },
  {
   "cell_type": "code",
   "execution_count": 3,
   "metadata": {},
   "outputs": [],
   "source": [
    "def gradient(formula, symbols):\n",
    "    '''\n",
    "    Given a SymPy formula and variables\n",
    "    Find its analytic gradient without substituion\n",
    "    as a list of SymPy formulae\n",
    "    '''\n",
    "    size = len(symbols)\n",
    "    gradient = []\n",
    "    for i in range(size):\n",
    "        gradient.append(formula.diff(symbols[i]))\n",
    "    return gradient"
   ]
  },
  {
   "cell_type": "code",
   "execution_count": 4,
   "metadata": {},
   "outputs": [],
   "source": [
    "def gradient_at(gradient, symbols, values):\n",
    "    '''\n",
    "    Given a SymPy analytic gradient, variables\n",
    "    and the values (as list) to substitue\n",
    "    Return its float point value as a list\n",
    "    '''\n",
    "    # Make sure you don't mess up the analytical gradient\n",
    "    g_copy = gradient.copy()\n",
    "    gradient_at = []\n",
    "    for i in range(len(g_copy)):\n",
    "        for j in range(len(symbols)):\n",
    "            g_copy[i] = g_copy[i].subs(symbols[j], values[j])\n",
    "        gradient_at.append(float(g_copy[i].evalf()))\n",
    "    return gradient_at"
   ]
  },
  {
   "cell_type": "code",
   "execution_count": 5,
   "metadata": {},
   "outputs": [],
   "source": [
    "def hessian(gradient, symbols):\n",
    "    '''\n",
    "    Given an analytic gradient and variables\n",
    "    Calculate its analytic Hessian\n",
    "    '''\n",
    "    size = len(symbols)\n",
    "    hessian = []\n",
    "    for i in range(size):\n",
    "        hessian.append([0]*size)\n",
    "    for i in range(size):\n",
    "        for j in range(size):\n",
    "            hessian[i][j] = gradient[i].diff(symbols[j])\n",
    "    return hessian"
   ]
  },
  {
   "cell_type": "code",
   "execution_count": 6,
   "metadata": {},
   "outputs": [],
   "source": [
    "def hessian_at(hessian, symbols, values):\n",
    "    '''\n",
    "    Given an analytic Hessian\n",
    "    Calculate its value with the given substitutions\n",
    "    '''\n",
    "    hessian_at = hessian.copy()\n",
    "    size = len(hessian)\n",
    "    for i in range(size):\n",
    "        for j in range(size):\n",
    "            for k in range(len(symbols)):\n",
    "                hessian_at[i][j] = hessian_at[i][j].subs(symbols[k], values[k])\n",
    "            hessian_at[i][j] = float(hessian_at[i][j].evalf())\n",
    "    return hessian_at"
   ]
  },
  {
   "cell_type": "code",
   "execution_count": 7,
   "metadata": {},
   "outputs": [],
   "source": [
    "def newton_nd_optimization_crude_step(formula, symbols, x_prev):\n",
    "    x_prev = list(x_prev)\n",
    "    grad = gradient(formula, symbols)\n",
    "    neg_gradient_at = -1 * np.array(gradient_at(grad, symbols, x_prev))\n",
    "    hes_at = np.array(hessian_at(hessian(grad, symbols), symbols, x_prev))\n",
    "    return np.array(x_prev) + la.solve(hes_at, neg_gradient_at)"
   ]
  },
  {
   "cell_type": "code",
   "execution_count": 8,
   "metadata": {},
   "outputs": [],
   "source": [
    "def newton_nd_optimization_crude(f_str, s_str, start, tolerance, actual_solution):\n",
    "    '''\n",
    "    A crude version of Newton ND Optimization algorithm\n",
    "    Maybe you can help out implementing an analytic solution\n",
    "    Returning the numerical solution as well as the number of\n",
    "    iterations it took\n",
    "    '''\n",
    "    formula = sp.sympify(f_str)\n",
    "    symbols = sp.symbols(s_str)\n",
    "    curr = np.copy(start)\n",
    "    iterations = 0\n",
    "    while (la.norm(curr - actual_solution, 2) > tolerance):\n",
    "        curr = newton_nd_optimization_crude_step(formula, symbols, curr)\n",
    "        iterations += 1\n",
    "    return curr, iterations"
   ]
  },
  {
   "cell_type": "code",
   "execution_count": 17,
   "metadata": {},
   "outputs": [],
   "source": [
    "# Test case set-up\n",
    "form = sp.sympify('12*x**2+10*x*y+12*y**2+8*E**(9*x*y)+8*(sin(y)**2)+9*cos(x*y)') # 记住，大E才是natural number\n",
    "x, y = sp.symbols('x y')\n",
    "tolerance = 10**-7\n",
    "# Test Case: Gradient\n",
    "grad = gradient(form, (x, y))\n",
    "grad_at = gradient_at(grad, (x, y), [0, 1])\n",
    "expected = np.array([\n",
    "    float(form.diff(x).subs(x, 0).subs(y, 1).evalf()),\n",
    "    float(form.diff(y).subs(x, 0).subs(y, 1).evalf())\n",
    "])\n",
    "actual = np.array(grad_at)\n",
    "assert la.norm(expected - actual, 2) < tolerance"
   ]
  },
  {
   "cell_type": "code",
   "execution_count": 19,
   "metadata": {},
   "outputs": [],
   "source": [
    "# Test Case: Hessian\n",
    "hes = hessian(grad, (x, y))\n",
    "hes_at = hessian_at(hes, (x, y), [0, 1])\n",
    "expected = np.array([\n",
    "    [\n",
    "        float(form.diff(x).diff(x).subs(x, 0).subs(y, 1).evalf()),\n",
    "        float(form.diff(x).diff(y).subs(x, 0).subs(y, 1).evalf())\n",
    "    ], [\n",
    "        float(form.diff(y).diff(x).subs(x, 0).subs(y, 1).evalf()),\n",
    "        float(form.diff(y).diff(y).subs(x, 0).subs(y, 1).evalf())\n",
    "    ]\n",
    "])\n",
    "actual = np.array(hes_at)\n",
    "assert la.norm(expected - actual, 2) < tolerance"
   ]
  },
  {
   "cell_type": "code",
   "execution_count": 20,
   "metadata": {},
   "outputs": [],
   "source": [
    "# Test Case: Newton ND step\n",
    "H = np.array([\n",
    "    [663, 82],\n",
    "    [82, -16*np.sin(1)**2 + 16*np.cos(1)**2 + 24]\n",
    "])\n",
    "v = np.array([82, 16*np.sin(1)*np.cos(1) + 24])\n",
    "expected = la.solve(H, v) * -1 + np.array([0, 1])\n",
    "actual = newton_nd_optimization_crude_step(form, (x, y), np.array([0, 1]))\n",
    "assert la.norm(expected - actual, 2) < tolerance"
   ]
  }
 ],
 "metadata": {
  "kernelspec": {
   "display_name": "Python 3",
   "language": "python",
   "name": "python3"
  },
  "language_info": {
   "codemirror_mode": {
    "name": "ipython",
    "version": 3
   },
   "file_extension": ".py",
   "mimetype": "text/x-python",
   "name": "python",
   "nbconvert_exporter": "python",
   "pygments_lexer": "ipython3",
   "version": "3.8.12"
  }
 },
 "nbformat": 4,
 "nbformat_minor": 4
}
