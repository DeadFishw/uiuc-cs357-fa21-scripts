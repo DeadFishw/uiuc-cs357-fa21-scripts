{
 "cells": [
  {
   "cell_type": "code",
   "execution_count": 68,
   "metadata": {},
   "outputs": [],
   "source": [
    "import sympy as sp"
   ]
  },
  {
   "cell_type": "code",
   "execution_count": 85,
   "metadata": {},
   "outputs": [],
   "source": [
    "def Newton_1D_step(x_prev, f_str, var_str):\n",
    "    '''\n",
    "    Given x_k, string representation of function, and string representation of variable\n",
    "    Return the numerical value of x_{k+1}\n",
    "    '''\n",
    "    f = sp.sympify(f_str)\n",
    "    var = sp.symbols(var_str)\n",
    "    df = sp.diff(f, var)\n",
    "    x_next = x_prev - f.subs(var, x_prev) / df.subs(var, x_prev)\n",
    "    return float(x_next)"
   ]
  },
  {
   "cell_type": "code",
   "execution_count": 86,
   "metadata": {},
   "outputs": [],
   "source": [
    "# Test Case: Newton_1D_step generic test\n",
    "err_bound = 10**-7\n",
    "expected = 0.113966093691\n",
    "actual = Newton_1D_step(-2, 'sin(x/5)', 'x')\n",
    "assert abs(expected - actual) < err_bound"
   ]
  },
  {
   "cell_type": "code",
   "execution_count": 87,
   "metadata": {},
   "outputs": [],
   "source": [
    "def Newton_1D_step_aux(x_prev, f, df, var):\n",
    "    '''\n",
    "    Given x_k, function, differentiation of the function, and the variable\n",
    "    Return the numerical value of x_{k+1}\n",
    "    Operate as a lighter weighted version of Newton_1D_step\n",
    "    '''\n",
    "    return float(x_prev - f.subs(var, x_prev) / df.subs(var, x_prev))\n",
    "\n",
    "def Newton_1D(x_0, f_str, var_str, err_bound):\n",
    "    '''\n",
    "    Given initial value x_0, string representation of function, string representation of variable\n",
    "    as well as the error bound\n",
    "    Return the number of iterations it takes to get to the error bound\n",
    "    And the final value\n",
    "    '''\n",
    "    f = sp.sympify(f_str)\n",
    "    var = sp.symbols(var_str)\n",
    "    df = sp.diff(f, var)\n",
    "    x_curr = x_0\n",
    "    iterations = 0\n",
    "    while abs(float(f.subs(var, x_curr))) > err_bound:\n",
    "        x_curr = Newton_1D_step_aux(x_curr, f, df, var)\n",
    "        iterations += 1\n",
    "    return iterations, x_curr"
   ]
  },
  {
   "cell_type": "code",
   "execution_count": 88,
   "metadata": {},
   "outputs": [],
   "source": [
    "# Test Case: Newton_1D generic iteration test\n",
    "err_bound = 10**-7\n",
    "it, res = Newton_1D(4.4, 'x*E**x', 'x', err_bound)\n",
    "assert it == 10"
   ]
  },
  {
   "cell_type": "code",
   "execution_count": 89,
   "metadata": {},
   "outputs": [],
   "source": [
    "def secant_1D_step(x_prev0, x_prev1, f_str, var_str):\n",
    "    '''\n",
    "    Given x_{k-1}, x_{k}, string representation of function, and string representation of variable\n",
    "    Return the numerical value of x_{k+1}\n",
    "    '''\n",
    "    f = sp.sympify(f_str)\n",
    "    var = sp.symbols(var_str)\n",
    "    x_next = x_prev1 - f.subs(var, x_prev1) / ((f.subs(var, x_prev0) - f.subs(var, x_prev1)) / (x_prev0 - x_prev1))\n",
    "    return float(x_next)"
   ]
  },
  {
   "cell_type": "code",
   "execution_count": 90,
   "metadata": {},
   "outputs": [],
   "source": [
    "# Test Case: secant_1D_step generic test\n",
    "err_bound = 10**-7\n",
    "expected = -0.0134679226308\n",
    "actual = secant_1D_step(1, -2, 'sin(x/5)', 'x')\n",
    "assert abs(expected - actual) < err_bound"
   ]
  },
  {
   "cell_type": "code",
   "execution_count": 95,
   "metadata": {},
   "outputs": [],
   "source": [
    "def bisection_1D_step(left, right, f_str, var_str):\n",
    "    f = sp.sympify(f_str)\n",
    "    var = sp.symbols(var_str)\n",
    "    mid = (left + right) / 2\n",
    "    if float(f.subs(var, left) * f.subs(var, mid)) < 0:\n",
    "        right = mid\n",
    "    else:\n",
    "        left = mid\n",
    "    return left, right"
   ]
  },
  {
   "cell_type": "code",
   "execution_count": 103,
   "metadata": {},
   "outputs": [],
   "source": [
    "expected = (-1.0, 0.5)\n",
    "temp = bisection_1D_step(-4, 2, 'sin(x/5)', 'x')\n",
    "actual = bisection_1D_step(temp[0], temp[1], 'sin(x/5)', 'x')\n",
    "assert expected == actual"
   ]
  },
  {
   "cell_type": "code",
   "execution_count": 105,
   "metadata": {},
   "outputs": [
    {
     "name": "stdout",
     "output_type": "stream",
     "text": [
      "-0.1139660936908088\n",
      "-0.0415222035418395\n",
      "(-0.25, 0.5)\n"
     ]
    }
   ],
   "source": [
    "# T14-HW14.5 variation 1\n",
    "f_str = 'sin(x/5)'\n",
    "var_str = 'x'\n",
    "newton_res = Newton_1D_step(2, f_str, var_str)\n",
    "print(newton_res)\n",
    "secant_res = secant_1D_step(1, 2, f_str, var_str)\n",
    "print(secant_res)\n",
    "temp = bisection_1D_step(-1, 2, f_str, var_str)\n",
    "bisection_res = bisection_1D_step(temp[0], temp[1], f_str, var_str)\n",
    "print(bisection_res)"
   ]
  },
  {
   "cell_type": "code",
   "execution_count": 106,
   "metadata": {},
   "outputs": [
    {
     "name": "stdout",
     "output_type": "stream",
     "text": [
      "-0.03876064853172647\n",
      "-0.12370422383815974\n",
      "(-1, 0.25)\n"
     ]
    }
   ],
   "source": [
    "# T14-HW14.5 variation 2\n",
    "f_str = 'sin(x/3)'\n",
    "var_str = 'x'\n",
    "newton_res = Newton_1D_step(1, f_str, var_str)\n",
    "print(newton_res)\n",
    "secant_res = secant_1D_step(2, 1, f_str, var_str)\n",
    "print(secant_res)\n",
    "temp = bisection_1D_step(-1, 4, f_str, var_str)\n",
    "bisection_res = bisection_1D_step(temp[0], temp[1], f_str, var_str)\n",
    "print(bisection_res)"
   ]
  },
  {
   "cell_type": "code",
   "execution_count": 107,
   "metadata": {
    "scrolled": true
   },
   "outputs": [
    {
     "data": {
      "text/plain": [
       "(9, 1.5586599258811135e-06)"
      ]
     },
     "execution_count": 107,
     "metadata": {},
     "output_type": "execute_result"
    }
   ],
   "source": [
    "# T14-HW14.3 variation 1\n",
    "Newton_1D(4, 'x*E**x', 'x', 10**-5)"
   ]
  }
 ],
 "metadata": {
  "kernelspec": {
   "display_name": "Python 3",
   "language": "python",
   "name": "python3"
  },
  "language_info": {
   "codemirror_mode": {
    "name": "ipython",
    "version": 3
   },
   "file_extension": ".py",
   "mimetype": "text/x-python",
   "name": "python",
   "nbconvert_exporter": "python",
   "pygments_lexer": "ipython3",
   "version": "3.8.12"
  }
 },
 "nbformat": 4,
 "nbformat_minor": 4
}
