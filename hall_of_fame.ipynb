{
 "cells": [
  {
   "cell_type": "markdown",
   "metadata": {},
   "source": [
    "These questions are so classic that they appear so many times that it's worth it to dedicate a Hall of Fame for them."
   ]
  },
  {
   "cell_type": "markdown",
   "metadata": {},
   "source": [
    "# Classic Problem 1\n",
    "\n",
    "## Control the Temperature - How much wood is needed?\n",
    "\n",
    "This question basically utilizes the bisection method.\n",
    "\n",
    "This is a collection, don't run it, because some variables are not defined."
   ]
  },
  {
   "cell_type": "code",
   "execution_count": null,
   "metadata": {},
   "outputs": [],
   "source": [
    "import numpy as np\n",
    "\n",
    "offset = 375\n",
    "intervals = [(0, max_wood)]\n",
    "\n",
    "while abs(get_temperature((intervals[-1][0] + intervals[-1][1]) / 2) - 375) >= epsilon:\n",
    "    mid = (intervals[-1][0] + intervals[-1][1]) / 2\n",
    "    if get_temperature(mid) - 375 > 0:\n",
    "        intervals.append((intervals[-1][0], mid))\n",
    "    else:\n",
    "        intervals.append((mid, intervals[-1][1]))\n",
    "        \n",
    "weight = (intervals[-1][0] + intervals[-1][1]) / 2"
   ]
  },
  {
   "cell_type": "markdown",
   "metadata": {},
   "source": [
    "# Interesting Problem 1\n",
    "\n",
    "## Sparse Matrix-vector multiplication\n",
    "\n",
    "This question only appeared once, but I think it's fun."
   ]
  },
  {
   "cell_type": "code",
   "execution_count": null,
   "metadata": {},
   "outputs": [],
   "source": [
    "import numpy as np\n",
    "\n",
    "Ax = np.zeros(shape[0])\n",
    "\n",
    "indexes = list(A)\n",
    "for i in range(len(indexes)):\n",
    "    for k in A[indexes[i]]:\n",
    "        Ax[indexes[i]] += A[indexes[i]][k] * x[k]"
   ]
  },
  {
   "cell_type": "markdown",
   "metadata": {},
   "source": [
    "# Classic Problem 2\n",
    "\n",
    "## Estimate the amount of clay\n",
    "\n",
    "This question utilizes the Monte Carlo Method, fun to work on.\n",
    "\n",
    "Nevertheless, remember to read the conditions carefully so that you don't miss any of them."
   ]
  },
  {
   "cell_type": "code",
   "execution_count": null,
   "metadata": {},
   "outputs": [],
   "source": [
    "import numpy as np\n",
    "from random import random\n",
    "\n",
    "n = 100000\n",
    "count = 0\n",
    "\n",
    "for i in range(n):\n",
    "    x = random()*10-5\n",
    "    y = random()*10-5\n",
    "    z = random()*2\n",
    "    if z < f(x, y) and x**2+y**2 < 25:\n",
    "        count += 1\n",
    "        \n",
    "volume = count / n * 10 * 10 * 2"
   ]
  }
 ],
 "metadata": {
  "kernelspec": {
   "display_name": "Python 3",
   "language": "python",
   "name": "python3"
  },
  "language_info": {
   "codemirror_mode": {
    "name": "ipython",
    "version": 3
   },
   "file_extension": ".py",
   "mimetype": "text/x-python",
   "name": "python",
   "nbconvert_exporter": "python",
   "pygments_lexer": "ipython3",
   "version": "3.8.12"
  }
 },
 "nbformat": 4,
 "nbformat_minor": 4
}
