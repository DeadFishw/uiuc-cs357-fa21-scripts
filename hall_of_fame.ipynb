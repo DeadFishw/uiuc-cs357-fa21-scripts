{
 "cells": [
  {
   "cell_type": "markdown",
   "metadata": {},
   "source": [
    "These questions are so classic that they appear so many times that it's worth it to dedicate a Hall of Fame for them."
   ]
  },
  {
   "cell_type": "markdown",
   "metadata": {},
   "source": [
    "# Classic Problem 1\n",
    "\n",
    "## Control the Temperature - How much wood is needed?\n",
    "\n",
    "This question basically utilizes the bisection method.\n",
    "\n",
    "This is a collection, don't run it, because some variables are not defined."
   ]
  },
  {
   "cell_type": "code",
   "execution_count": null,
   "metadata": {},
   "outputs": [],
   "source": [
    "import numpy as np\n",
    "\n",
    "offset = 375\n",
    "intervals = [(0, max_wood)]\n",
    "\n",
    "while abs(get_temperature((intervals[-1][0] + intervals[-1][1]) / 2) - 375) >= epsilon:\n",
    "    mid = (intervals[-1][0] + intervals[-1][1]) / 2\n",
    "    if get_temperature(mid) - 375 > 0:\n",
    "        intervals.append((intervals[-1][0], mid))\n",
    "    else:\n",
    "        intervals.append((mid, intervals[-1][1]))\n",
    "        \n",
    "weight = (intervals[-1][0] + intervals[-1][1]) / 2"
   ]
  },
  {
   "cell_type": "markdown",
   "metadata": {},
   "source": [
    "# Interesting Problem 1\n",
    "\n",
    "## Sparse Matrix-vector multiplication\n",
    "\n",
    "This question only appeared once, but I think it's fun."
   ]
  },
  {
   "cell_type": "code",
   "execution_count": null,
   "metadata": {},
   "outputs": [],
   "source": [
    "import numpy as np\n",
    "\n",
    "Ax = np.zeros(shape[0])\n",
    "\n",
    "indexes = list(A)\n",
    "for i in range(len(indexes)):\n",
    "    for k in A[indexes[i]]:\n",
    "        Ax[indexes[i]] += A[indexes[i]][k] * x[k]"
   ]
  },
  {
   "cell_type": "markdown",
   "metadata": {},
   "source": [
    "# Classic Problem 2\n",
    "\n",
    "## Estimate the amount of clay\n",
    "\n",
    "This question utilizes the Monte Carlo Method, fun to work on.\n",
    "\n",
    "Nevertheless, remember to read the conditions carefully so that you don't miss any of them."
   ]
  },
  {
   "cell_type": "code",
   "execution_count": null,
   "metadata": {},
   "outputs": [],
   "source": [
    "import numpy as np\n",
    "from random import random\n",
    "\n",
    "n = 100000\n",
    "count = 0\n",
    "\n",
    "for i in range(n):\n",
    "    x = random()*10-5\n",
    "    y = random()*10-5\n",
    "    z = random()*2\n",
    "    if z < f(x, y) and x**2+y**2 < 25:\n",
    "        count += 1\n",
    "        \n",
    "volume = count / n * 10 * 10 * 2"
   ]
  },
  {
   "cell_type": "markdown",
   "metadata": {},
   "source": [
    "# Classic Problem 3\n",
    "\n",
    "## Solve linear system using SVD\n",
    "\n",
    "So this question basically only allows you to multiply $U$ on the right and $V$ on the left. We will assume that A is invertible, which saves a lot of troubles.\n",
    "\n",
    "Let's try to justify it with analytic expression:\n",
    "\n",
    "$Ax=b$\n",
    "\n",
    "$A^{-1}Ax = A^{-1}b$\n",
    "\n",
    "$x = V\\Sigma^{-1}U^Tb$\n",
    "\n",
    "$x = V\\Sigma^{-1}(b^TU)^T$\n",
    "\n",
    "Therefore, we can conclude that the following code works:"
   ]
  },
  {
   "cell_type": "code",
   "execution_count": null,
   "metadata": {},
   "outputs": [],
   "source": [
    "import numpy as np\n",
    "x = left_multiply_with_V(np.diag(1/sigma)@right_multiply_with_U(b).T)"
   ]
  },
  {
   "cell_type": "markdown",
   "metadata": {},
   "source": [
    "# Interesting Problem 2\n",
    "\n",
    "## Newton's Method - Newton's Method\n",
    "\n",
    "This is Newton's method used for ND solve. At first I think my scripts are not directly applicable, but then I found a way to transform the problem into what I need."
   ]
  },
  {
   "cell_type": "code",
   "execution_count": null,
   "metadata": {},
   "outputs": [],
   "source": [
    "import numpy as np\n",
    "import numpy.linalg as la\n",
    "import sympy as sp\n",
    "\n",
    "# These functions are from the newton_nd_solve script\n",
    "def subs_all…\n",
    "def calculated_jacobian…\n",
    "def newton_nd_step…\n",
    "\n",
    "f_strs = ['16*x**4+16*y**4+z**4-16', 'x**2+y**2+z**2-3', 'x**3-y']\n",
    "x_prev = [1, 1, 1]\n",
    "var_str = 'x y z'\n",
    "res = []\n",
    "for i in range(5):\n",
    "    x_prev = [1, 1, 1]\n",
    "    for j in range(i+1):\n",
    "        jac, x_prev = newton_nd_step(x_prev, f_strs, var_str)\n",
    "    res.append(np.array(x_prev))\n",
    "guesses = np.array(res)"
   ]
  }
 ],
 "metadata": {
  "kernelspec": {
   "display_name": "Python 3",
   "language": "python",
   "name": "python3"
  },
  "language_info": {
   "codemirror_mode": {
    "name": "ipython",
    "version": 3
   },
   "file_extension": ".py",
   "mimetype": "text/x-python",
   "name": "python",
   "nbconvert_exporter": "python",
   "pygments_lexer": "ipython3",
   "version": "3.8.12"
  }
 },
 "nbformat": 4,
 "nbformat_minor": 4
}
