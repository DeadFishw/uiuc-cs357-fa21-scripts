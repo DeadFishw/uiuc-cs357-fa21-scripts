{
 "cells": [
  {
   "cell_type": "code",
   "execution_count": 1,
   "id": "aa3d9a11",
   "metadata": {},
   "outputs": [],
   "source": [
    "import numpy as np\n",
    "import scipy.optimize as opt\n",
    "import numdifftools as nd\n",
    "import numpy.linalg as la"
   ]
  },
  {
   "cell_type": "markdown",
   "id": "1bd0fc0e",
   "metadata": {},
   "source": [
    "# Finite Difference gradient"
   ]
  },
  {
   "cell_type": "code",
   "execution_count": 52,
   "id": "0f66529b",
   "metadata": {},
   "outputs": [
    {
     "name": "stdout",
     "output_type": "stream",
     "text": [
      "[1. 1. 1.]\n",
      "0.1\n",
      "1.1\n",
      "4.100000000000006\n",
      "[1. 1. 1.]\n",
      "0.1\n",
      "1.1\n",
      "4.200000000000004\n",
      "[1. 1. 1.]\n",
      "0.1\n",
      "1.1\n",
      "4.100000000000006\n"
     ]
    }
   ],
   "source": [
    "h = 0.1\n",
    "x = np.array([1.0, 1.0, 1.0])\n",
    "def f(inp):\n",
    "    x, y, z = inp\n",
    "    return (x**2) * (y**2) * z + x * (y**2) * (z**2) + x * z\n",
    "# forward nd\n",
    "approx = np.zeros_like(x)\n",
    "for i in range(x.shape[0]):\n",
    "    xfd = x.copy()\n",
    "    print(xfd)\n",
    "    xfd[i] += h\n",
    "    print(h)\n",
    "    print(xfd[i])\n",
    "    approx[i] = (f(xfd) - f(x)) / h\n",
    "    print(approx[i])"
   ]
  },
  {
   "cell_type": "code",
   "execution_count": null,
   "id": "91d5bfeb",
   "metadata": {},
   "outputs": [],
   "source": [
    "# forward 1d Oh 1 eval\n",
    "appro = (f(x + h) - f(x)) / h\n",
    "appro"
   ]
  },
  {
   "cell_type": "code",
   "execution_count": 45,
   "id": "03eba2e1",
   "metadata": {},
   "outputs": [
    {
     "data": {
      "text/plain": [
       "array([0, 0, 0])"
      ]
     },
     "execution_count": 45,
     "metadata": {},
     "output_type": "execute_result"
    }
   ],
   "source": [
    "# forward nd\n",
    "approx = np.zeros_like(x)\n",
    "for i in range(x.shape[0]):\n",
    "    xfd = x.copy()\n",
    "    xfd[i] += h\n",
    "    approx[i] = (f(xfd) - f(x)) / h\n",
    "-1 * approx"
   ]
  },
  {
   "cell_type": "code",
   "execution_count": null,
   "id": "7fce6b55",
   "metadata": {},
   "outputs": [],
   "source": [
    "# backward 1d Oh 1 eval\n",
    "appro = (f(x) - f(x - h)) / h\n",
    "appro"
   ]
  },
  {
   "cell_type": "code",
   "execution_count": null,
   "id": "a15609d5",
   "metadata": {},
   "outputs": [],
   "source": [
    "# backward nd\n",
    "approx = np.zeros_like(x)\n",
    "for i in range(x.shape[0]):\n",
    "    xfd = x.copy()\n",
    "    xfd[i] -= h\n",
    "    approx[i] = (f(x) - f(xfd)) / h"
   ]
  },
  {
   "cell_type": "code",
   "execution_count": 10,
   "id": "68dac912",
   "metadata": {},
   "outputs": [
    {
     "data": {
      "text/plain": [
       "array([1., 0., 0.])"
      ]
     },
     "execution_count": 10,
     "metadata": {},
     "output_type": "execute_result"
    }
   ],
   "source": [
    "x = np.array([1, 1, 1], dtype = float)\n",
    "h = 0.1\n",
    "def f(inp):\n",
    "    x, y, z = inp\n",
    "    return x + 2\n",
    "approx = np.zeros_like(x)\n",
    "for i in range(x.shape[0]):\n",
    "    xfd1 = x.copy()\n",
    "    xfd2 = x.copy()\n",
    "    xfd1[i] += h\n",
    "    xfd2[i] -= h\n",
    "    approx[i] = (f(xfd1) - f(xfd2)) / (2*h)\n",
    "approx"
   ]
  },
  {
   "cell_type": "code",
   "execution_count": null,
   "id": "0a10c266",
   "metadata": {},
   "outputs": [],
   "source": [
    "# central 1d Oh^2 2 eval\n",
    "appro = (f(x + h) - f(x - h)) / (2 * h)\n",
    "appro"
   ]
  },
  {
   "cell_type": "code",
   "execution_count": null,
   "id": "381cd0b6",
   "metadata": {},
   "outputs": [],
   "source": [
    "# central nd\n",
    "approx = np.zeros_like(x)\n",
    "for i in range(x.shape[0]):\n",
    "    xfd1 = x.copy()\n",
    "    xfd2 = x.copy()\n",
    "    xfd1[i] += h\n",
    "    xfd2[i] -= h\n",
    "    approx[i] = (f(xfd1) - f(xfd2)) / (2*h)"
   ]
  },
  {
   "cell_type": "markdown",
   "id": "c3ffb9b2",
   "metadata": {},
   "source": [
    "## Gradient"
   ]
  },
  {
   "cell_type": "code",
   "execution_count": null,
   "id": "4b36f421",
   "metadata": {},
   "outputs": [],
   "source": [
    "g = nd.Gradient(f)([1, 2])"
   ]
  },
  {
   "cell_type": "markdown",
   "id": "85537859",
   "metadata": {},
   "source": [
    "## Jacobian"
   ]
  },
  {
   "cell_type": "code",
   "execution_count": 26,
   "id": "20315f54",
   "metadata": {},
   "outputs": [],
   "source": [
    "def f(inp):\n",
    "    x, y = inp\n",
    "    return np.array([\n",
    "        5*x**2 + 4*y**3 - 6,\n",
    "        6*x**4 + 3*y - 5\n",
    "    ])\n",
    "    "
   ]
  },
  {
   "cell_type": "code",
   "execution_count": 28,
   "id": "28b2d530",
   "metadata": {},
   "outputs": [
    {
     "data": {
      "text/plain": [
       "array([[-10.,   0.],\n",
       "       [-24.,   3.]])"
      ]
     },
     "execution_count": 28,
     "metadata": {},
     "output_type": "execute_result"
    }
   ],
   "source": [
    "j = nd.Jacobian(f)([-1, 0])\n",
    "j"
   ]
  },
  {
   "cell_type": "code",
   "execution_count": 29,
   "id": "2aa4ec67",
   "metadata": {},
   "outputs": [
    {
     "data": {
      "text/plain": [
       "array([-1.1       , -1.13333333])"
      ]
     },
     "execution_count": 29,
     "metadata": {},
     "output_type": "execute_result"
    }
   ],
   "source": [
    "s = la.solve(j, - f([-1, 0]))\n",
    "[-1, 0] + s"
   ]
  },
  {
   "cell_type": "markdown",
   "id": "b82cd339",
   "metadata": {},
   "source": [
    "## Hessian"
   ]
  },
  {
   "cell_type": "code",
   "execution_count": null,
   "id": "ec3a11d2",
   "metadata": {},
   "outputs": [],
   "source": [
    "h = nd.Hessian(f)([1, 2])"
   ]
  },
  {
   "cell_type": "code",
   "execution_count": null,
   "id": "d59c31b7",
   "metadata": {},
   "outputs": [],
   "source": [
    "x = [1, 2]\n",
    "s = -la.solve(h, g)\n",
    "x + s"
   ]
  },
  {
   "cell_type": "markdown",
   "id": "6e492551",
   "metadata": {},
   "source": [
    "# Bisection Method"
   ]
  },
  {
   "cell_type": "markdown",
   "id": "da233464",
   "metadata": {},
   "source": [
    "1 evaluation each iteration; linear convergence: 1/2; f is continuous and f(a) and f(b) opposite"
   ]
  },
  {
   "cell_type": "code",
   "execution_count": null,
   "id": "9d91da69",
   "metadata": {},
   "outputs": [],
   "source": [
    "# root\n",
    "opt.bisect(f, a = -4, b = 1, maxiter = 2, disp = False)"
   ]
  },
  {
   "cell_type": "code",
   "execution_count": null,
   "id": "ae6c41a5",
   "metadata": {},
   "outputs": [],
   "source": [
    "import numpy as np\n",
    "\n",
    "def f(x):\n",
    "    return get_temperature(x) - 375\n",
    "    \n",
    "intervals = []\n",
    "a = 0\n",
    "fa = f(a)\n",
    "b = max_wood\n",
    "fb = f(b)\n",
    "interval = (a, b)\n",
    "intervals.append(interval)\n",
    "m = (a + b) / 2\n",
    "fm = f(m)\n",
    "\n",
    "\n",
    "while (np.abs(fm) >= epsilon):\n",
    "    if (fm * fb > 0):\n",
    "        b = m\n",
    "        fb = fm\n",
    "    elif (fm * fa > 0):\n",
    "        a = m\n",
    "        fa = fm\n",
    "    interval = (a, b)\n",
    "    intervals.append(interval)\n",
    "    m = (a + b) / 2\n",
    "    fm = f(m)\n",
    "\n",
    "\n",
    "\n",
    "weight = m\n",
    "    "
   ]
  },
  {
   "cell_type": "markdown",
   "id": "72a8f399",
   "metadata": {},
   "source": [
    "# Newton Method"
   ]
  },
  {
   "cell_type": "markdown",
   "id": "d6fb5956",
   "metadata": {},
   "source": [
    "2 evals; typically; quadratic convergence depends on initial guess; start point; when diff too costly try secant"
   ]
  },
  {
   "cell_type": "markdown",
   "id": "5e1d7e60",
   "metadata": {},
   "source": [
    "## root "
   ]
  },
  {
   "cell_type": "markdown",
   "id": "e198cb30",
   "metadata": {},
   "source": [
    "$x_{k+1} = x_k + h = x_k - \\frac{f(x_k)}{f'(x_k)}$"
   ]
  },
  {
   "cell_type": "code",
   "execution_count": 23,
   "id": "6679f57d",
   "metadata": {},
   "outputs": [
    {
     "data": {
      "text/plain": [
       "1.96666666666671"
      ]
     },
     "execution_count": 23,
     "metadata": {},
     "output_type": "execute_result"
    }
   ],
   "source": [
    "# root\n",
    "def f(x):\n",
    "    return -1 * np.exp(-1 * x**2)\n",
    "\n",
    "root = 0.3 - f(0.3) / nd.Gradient(f)(0.3)\n",
    "root"
   ]
  },
  {
   "cell_type": "code",
   "execution_count": null,
   "id": "d377a8d3",
   "metadata": {},
   "outputs": [],
   "source": [
    "root -= f(root)/nd.Gradient(f)(root)\n",
    "root"
   ]
  },
  {
   "cell_type": "code",
   "execution_count": null,
   "id": "06fdf3fa",
   "metadata": {},
   "outputs": [],
   "source": [
    "import numpy as np\n",
    "import numpy.linalg as la\n",
    "import scipy.optimize as opt\n",
    "\n",
    "def f(x,y):\n",
    "    return np.array([x**3 - y**2, x+y*x**2 - 2])\n",
    "\n",
    "# A function that returns the Jacobian may be useful\n",
    "def J(x,y):\n",
    "    return np.array([[3 * x ** 2, -2 * y], [1 + 2*x*y, x**2]])\n",
    " \n",
    "x = np.copy(xi)\n",
    "res = la.norm(f(x[0], x[1]), 2)\n",
    "\n",
    "while res >= tol:\n",
    "    x = x - la.inv(J(x[0], x[1]))@f(x[0], x[1])\n",
    "    res = la.norm(f(x[0], x[1]), 2)\n",
    "    \n",
    "root = x"
   ]
  },
  {
   "cell_type": "code",
   "execution_count": 6,
   "id": "9bf60351",
   "metadata": {},
   "outputs": [
    {
     "data": {
      "text/plain": [
       "array([[20.,  9.],\n",
       "       [ 8.,  2.]])"
      ]
     },
     "execution_count": 6,
     "metadata": {},
     "output_type": "execute_result"
    }
   ],
   "source": [
    "x0 = [1, -1]\n",
    "def f(inp):\n",
    "    x, y = inp\n",
    "    return np.array([5*x**4 + 3*y**3 - 6, 4*x**2+2*y - 5])\n",
    "j = nd.Jacobian(f)(x0)\n",
    "j"
   ]
  },
  {
   "cell_type": "code",
   "execution_count": 7,
   "id": "0c774d2d",
   "metadata": {},
   "outputs": [
    {
     "data": {
      "text/plain": [
       "array([ 1.59375, -1.875  ])"
      ]
     },
     "execution_count": 7,
     "metadata": {},
     "output_type": "execute_result"
    }
   ],
   "source": [
    "x1 = x0 - la.inv(j)@f(x0)\n",
    "x1"
   ]
  },
  {
   "cell_type": "markdown",
   "id": "dbe68851",
   "metadata": {},
   "source": [
    "# Secant Method"
   ]
  },
  {
   "cell_type": "markdown",
   "id": "abfc3a3a",
   "metadata": {},
   "source": [
    "local convergence 1.618; 1 eval; two staring guess; superlinear"
   ]
  },
  {
   "cell_type": "markdown",
   "id": "2b6def9d",
   "metadata": {},
   "source": [
    "$f'(x_k) = \\frac{f(x_k) - f(x_{k-1})}{x_k - x_{k-1}}$"
   ]
  },
  {
   "cell_type": "markdown",
   "id": "dc558743",
   "metadata": {},
   "source": [
    "$x_{k+1} = x_k + h = x_k - \\frac{f(x_k)}{f'(x_k)}$"
   ]
  },
  {
   "cell_type": "code",
   "execution_count": null,
   "id": "25439d43",
   "metadata": {},
   "outputs": [],
   "source": [
    "# estimation of derivative\n",
    "(f(0) - f(-2)) / 2"
   ]
  },
  {
   "cell_type": "code",
   "execution_count": null,
   "id": "f00cb319",
   "metadata": {},
   "outputs": [],
   "source": [
    "import numpy as np\n",
    "roots = []\n",
    "\n",
    "x1, x2 = xks\n",
    "\n",
    "def slp(f, x2, x1):\n",
    "    return (f(x2) - f(x1)) / (x2 - x1)\n",
    "   \n",
    "last2 = x2\n",
    "last1 = x1\n",
    "for i in range(5):\n",
    "    cur = last2 - f(last2)/slp(f, last2, last1)\n",
    "    roots.append(cur)\n",
    "    last1 = last2\n",
    "    last2 = cur\n",
    "    \n",
    "roots = np.array(roots)"
   ]
  },
  {
   "cell_type": "code",
   "execution_count": 30,
   "id": "d383ebe3",
   "metadata": {},
   "outputs": [],
   "source": [
    "def f(x):\n",
    "    return x**3 - 3*x - 7\n",
    "def slp(f, x1, x0):\n",
    "    return (f(x1) - f(x0)) / (x1 - x0)"
   ]
  },
  {
   "cell_type": "code",
   "execution_count": 31,
   "id": "24b155a3",
   "metadata": {},
   "outputs": [
    {
     "data": {
      "text/plain": [
       "-2.0"
      ]
     },
     "execution_count": 31,
     "metadata": {},
     "output_type": "execute_result"
    }
   ],
   "source": [
    "slp(f, 0, -1)"
   ]
  },
  {
   "cell_type": "code",
   "execution_count": 32,
   "id": "87013ac3",
   "metadata": {},
   "outputs": [],
   "source": [
    "x1 = 0"
   ]
  },
  {
   "cell_type": "code",
   "execution_count": 33,
   "id": "328bfd06",
   "metadata": {},
   "outputs": [
    {
     "data": {
      "text/plain": [
       "-3.5"
      ]
     },
     "execution_count": 33,
     "metadata": {},
     "output_type": "execute_result"
    }
   ],
   "source": [
    "x2 = x1 - f(x1) / (-2)\n",
    "x2"
   ]
  },
  {
   "cell_type": "markdown",
   "id": "28314540",
   "metadata": {},
   "source": [
    "# Optimization (1d)"
   ]
  },
  {
   "cell_type": "markdown",
   "id": "a4c1d6e6",
   "metadata": {},
   "source": [
    "1d: 1st d = 0; 2nd d > 0"
   ]
  },
  {
   "cell_type": "markdown",
   "id": "779af4a6",
   "metadata": {},
   "source": [
    "# Newton"
   ]
  },
  {
   "cell_type": "markdown",
   "id": "8af8ca34",
   "metadata": {},
   "source": [
    "$x_{k+1} = x_k + h = x_k - \\frac{f'(x_k)}{f''(x_k)}$"
   ]
  },
  {
   "cell_type": "code",
   "execution_count": 37,
   "id": "ddb7f19c",
   "metadata": {},
   "outputs": [
    {
     "data": {
      "text/plain": [
       "2.2209039548022598"
      ]
     },
     "execution_count": 37,
     "metadata": {},
     "output_type": "execute_result"
    }
   ],
   "source": [
    "# root\n",
    "def f(x):\n",
    "    return -1 * np.exp(-1 * x**2)\n",
    "def fp(x):\n",
    "    return 2*x * np.exp(-1 * x**2)\n",
    "root = opt.newton(f, fprime = fp, x0=0.3, maxiter = 2, disp = False)\n",
    "root"
   ]
  },
  {
   "cell_type": "code",
   "execution_count": 8,
   "id": "be534e82",
   "metadata": {},
   "outputs": [
    {
     "data": {
      "text/plain": [
       "array([[0.22215415]])"
      ]
     },
     "execution_count": 8,
     "metadata": {},
     "output_type": "execute_result"
    }
   ],
   "source": [
    "def f(x):\n",
    "    return 2 * np.sin(x**3)\n",
    "x0 = 0.45\n",
    "x1 = x0 - nd.Gradient(f)(x0) / nd.Hessian(f)(x0)\n",
    "x1"
   ]
  },
  {
   "cell_type": "markdown",
   "id": "c5aa1dc1",
   "metadata": {},
   "source": [
    "# Golden section"
   ]
  },
  {
   "cell_type": "markdown",
   "id": "eadb9e92",
   "metadata": {},
   "source": [
    "1 eval; linearly convergent; "
   ]
  },
  {
   "cell_type": "code",
   "execution_count": 9,
   "id": "0a678793",
   "metadata": {},
   "outputs": [
    {
     "name": "stdout",
     "output_type": "stream",
     "text": [
      "-1\n",
      "4.562305898749054\n"
     ]
    }
   ],
   "source": [
    "import numpy as np\n",
    "\n",
    "def f(x):\n",
    "    return (x - 3.2)**2\n",
    "a = -1\n",
    "b = 8\n",
    "\n",
    "gs = (np.sqrt(5) - 1) / 2\n",
    "m1 = a + (1 - gs) * (b - a)\n",
    "m2 = a + gs * (b - a)\n",
    "epsilon = 1e-5\n",
    "\n",
    "# Begin your modifications below here\n",
    "f1 = f(m1)\n",
    "f2 = f(m2)\n",
    "h = b-a\n",
    "\n",
    "while h >= epsilon:\n",
    "    \n",
    "    if f1 > f2:\n",
    "        a = m1\n",
    "        m1 = m2\n",
    "        f1 = f2\n",
    "        h *= gs\n",
    "        m2 = a + gs * h\n",
    "        f2 = f(m2)\n",
    "    else:\n",
    "        b = m2\n",
    "        m2 = m1\n",
    "        f2 = f1\n",
    "        h *= gs\n",
    "        m1 = a + (1 - gs) * h\n",
    "        f1 = f(m1)\n",
    "    break\n",
    "print(a)\n",
    "print(b)\n",
    "\n",
    "# End your modifications above here"
   ]
  },
  {
   "cell_type": "code",
   "execution_count": 11,
   "id": "3435c0b8",
   "metadata": {},
   "outputs": [
    {
     "data": {
      "text/plain": [
       "5.193495504995375"
      ]
     },
     "execution_count": 11,
     "metadata": {},
     "output_type": "execute_result"
    }
   ],
   "source": [
    "gs = (np.sqrt(5) - 1) / 2\n",
    "22 * (gs**3)"
   ]
  },
  {
   "cell_type": "markdown",
   "id": "8d73cd50",
   "metadata": {},
   "source": [
    "# Optimization (nd)"
   ]
  },
  {
   "cell_type": "markdown",
   "id": "e3db99f1",
   "metadata": {},
   "source": [
    "nd: grad = 0; H positive definite"
   ]
  },
  {
   "cell_type": "markdown",
   "id": "da91775c",
   "metadata": {},
   "source": [
    "# Steepest Descent"
   ]
  },
  {
   "cell_type": "markdown",
   "id": "9f969cee",
   "metadata": {},
   "source": [
    "linear convergent"
   ]
  },
  {
   "cell_type": "code",
   "execution_count": null,
   "id": "29876cb6",
   "metadata": {},
   "outputs": [],
   "source": [
    "import numpy.linalg as la\n",
    "import scipy.optimize as opt\n",
    "import numpy as np\n",
    "\n",
    "def obj_func(alpha, x, s):\n",
    "    # code for computing the objective function at (x+alpha*s)\n",
    "    return f_of_x_plus_alpha_s\n",
    "\n",
    "def gradient(inpu):\n",
    "    # code for computing gradient\n",
    "    x, y = inpu\n",
    "    return np.array([x/4 - np.cos(x)*np.cos(y / np.sqrt(2)), \n",
    "                    y/4 + 1 / np.sqrt(x) * np.sin(x)*np.sin(y / np.sqrt(2))])\n",
    "\n",
    "def steepest_descent(x_init):\n",
    "    x_new = x_init\n",
    "    x_prev = np.random.randn(x_init.shape[0])\n",
    "    while(la.norm(x_prev - x_new) > 1e-6):\n",
    "        x_prev = x_new\n",
    "        s = -gradient(x_prev)\n",
    "        alpha = opt.minimize_scalar(obj_func, args=(x_prev, s)).x\n",
    "        x_new = x_prev + alpha*s"
   ]
  },
  {
   "cell_type": "code",
   "execution_count": 2,
   "id": "222f314d",
   "metadata": {},
   "outputs": [],
   "source": [
    "def f(inp):\n",
    "    x, y = inp\n",
    "    return 2 * x**2 + 14 * x* y + 2 * y**2 + 10 * np.sin(y)**2 + 4 * np.cos(x * y)"
   ]
  },
  {
   "cell_type": "code",
   "execution_count": 3,
   "id": "187e3add",
   "metadata": {},
   "outputs": [
    {
     "data": {
      "text/plain": [
       "array([-19.91486597,  71.3977569 ])"
      ]
     },
     "execution_count": 3,
     "metadata": {},
     "output_type": "execute_result"
    }
   ],
   "source": [
    "x0 = [-4, 2]\n",
    "s0 = -1 * nd.Gradient(f)(x0)\n",
    "s0"
   ]
  },
  {
   "cell_type": "code",
   "execution_count": 4,
   "id": "4f569ae5",
   "metadata": {},
   "outputs": [
    {
     "data": {
      "text/plain": [
       "array([-4.9957433 ,  5.56988784])"
      ]
     },
     "execution_count": 4,
     "metadata": {},
     "output_type": "execute_result"
    }
   ],
   "source": [
    "x1 = x0 + 0.05 * s0\n",
    "x1"
   ]
  },
  {
   "cell_type": "markdown",
   "id": "85bb1055",
   "metadata": {},
   "source": [
    "# Newton's method "
   ]
  },
  {
   "cell_type": "code",
   "execution_count": null,
   "id": "2410e743",
   "metadata": {},
   "outputs": [],
   "source": [
    "import numpy as np\n",
    "import numpy.linalg as la\n",
    "import scipy.optimize as opt\n",
    "def f(r):\n",
    "    x, y = r\n",
    "    return 3 +((x**2)/8) + ((y**2)/8) - np.sin(x)*np.cos((2**-0.5)*y)\n",
    "    \n",
    "def gradient(inpu):\n",
    "    # code for computing gradient\n",
    "    x, y = inpu\n",
    "    return np.array([x/4 - np.cos(x)*np.cos(y / np.sqrt(2)), \n",
    "                    y/4 + 1 / np.sqrt(x) * np.sin(x)*np.sin(y / np.sqrt(2))])\n",
    "                    \n",
    "def hessian(inpu):\n",
    "    x, y = inpu\n",
    "    return np.array([[np.sin(x)*np.cos(y/np.sqrt(2)) + 1/4,\n",
    "        np.cos(x)*np.sin(y / np.sqrt(2))/np.sqrt(2)], \n",
    "    [np.cos(x)*np.sin(y / np.sqrt(2))/np.sqrt(2),\n",
    "    np.sin(x)*np.cos(y/np.sqrt(2)) + 1/4]])\n",
    "    \n",
    "def newtons(x_init, stop):\n",
    "    count = 0\n",
    "    x_new = x_init\n",
    "    x_prev = np.random.randn(x_init.shape[0])\n",
    "    while(la.norm(x_prev-x_new)>stop):\n",
    "        x_prev = x_new\n",
    "        s = -la.solve(hessian(x_prev), gradient(x_prev))\n",
    "        x_new = x_prev + s\n",
    "        count += 1\n",
    "    return x_new, count\n",
    "    \n",
    "def steepest_descent(x_init, stop):\n",
    "    count = 0\n",
    "    x_new = x_init\n",
    "    x_prev = np.random.randn(x_init.shape[0])\n",
    "    while(la.norm(x_prev - x_new) > stop):\n",
    "        x_prev = x_new\n",
    "        s = -gradient(x_prev)\n",
    "        alpha = opt.minimize_scalar(f, args=(x_prev, s)).x\n",
    "        x_new = x_prev + alpha*s\n",
    "        count += 1\n",
    "    return x_new, count\n",
    "    \n",
    "r_newton, iteration_count_newton = newtons(r_init, stop)\n",
    "r_sd, iteration_count_sd = steepest_descent(r_init, stop)\n",
    "\n"
   ]
  },
  {
   "cell_type": "code",
   "execution_count": 53,
   "id": "a87f0cc7",
   "metadata": {},
   "outputs": [],
   "source": [
    "def f(x):\n",
    "    return 4 * np.cos(x)**3"
   ]
  },
  {
   "cell_type": "code",
   "execution_count": 54,
   "id": "287f8a3c",
   "metadata": {},
   "outputs": [
    {
     "data": {
      "text/plain": [
       "array([[-0.08254733]])"
      ]
     },
     "execution_count": 54,
     "metadata": {},
     "output_type": "execute_result"
    }
   ],
   "source": [
    "x0 = 0.3\n",
    "x1 = x0 - nd.Gradient(f)(x0)/nd.Hessian(f)(x0)\n",
    "x1"
   ]
  },
  {
   "cell_type": "code",
   "execution_count": null,
   "id": "d755b285",
   "metadata": {},
   "outputs": [],
   "source": []
  }
 ],
 "metadata": {
  "kernelspec": {
   "display_name": "Python 3",
   "language": "python",
   "name": "python3"
  },
  "language_info": {
   "codemirror_mode": {
    "name": "ipython",
    "version": 3
   },
   "file_extension": ".py",
   "mimetype": "text/x-python",
   "name": "python",
   "nbconvert_exporter": "python",
   "pygments_lexer": "ipython3",
   "version": "3.8.3"
  }
 },
 "nbformat": 4,
 "nbformat_minor": 5
}
