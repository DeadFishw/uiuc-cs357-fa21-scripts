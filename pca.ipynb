{
 "cells": [
  {
   "cell_type": "markdown",
   "metadata": {},
   "source": [
    "Actually this is not PCA, but PCA-related questions in CS357."
   ]
  },
  {
   "cell_type": "code",
   "execution_count": 30,
   "metadata": {},
   "outputs": [],
   "source": [
    "import numpy as np\n",
    "import numpy.linalg as la"
   ]
  },
  {
   "cell_type": "code",
   "execution_count": 31,
   "metadata": {},
   "outputs": [],
   "source": [
    "def center_data(A):\n",
    "    '''\n",
    "    Given a matrix A, we want every column to shift by their column mean\n",
    "    '''\n",
    "    B = np.copy(A).astype(float)\n",
    "    for i in range(B.shape[1]):\n",
    "        B[:,i] -= np.mean(B[:,i])\n",
    "    return B"
   ]
  },
  {
   "cell_type": "code",
   "execution_count": 32,
   "metadata": {},
   "outputs": [],
   "source": [
    "# Generic Test Case for center_data\n",
    "X = np.array([[0.865, 1.043, -0.193], [-1.983, -1.250, 2.333], [0.305, 1.348, -0.024], [1.509, -0.069, -1.400]])\n",
    "expected = np.array([\n",
    "    [ 0.691,  0.775, -0.372],\n",
    "    [-2.157, -1.518,  2.154],\n",
    "    [ 0.131,  1.08 , -0.203],\n",
    "    [ 1.335, -0.337, -1.579]\n",
    "])\n",
    "actual = center_data(X)\n",
    "tol = 10**-4\n",
    "assert la.norm(expected-actual) < tol"
   ]
  },
  {
   "cell_type": "code",
   "execution_count": 33,
   "metadata": {},
   "outputs": [],
   "source": [
    "def pc_needed(U, S, V, limit):\n",
    "    '''\n",
    "    Given a singular value decomposition\n",
    "    return the number of principal components needed to\n",
    "    achieve a variance coverage equal to or higher than limit\n",
    "    '''\n",
    "    var = S@S / np.sum(S@S)\n",
    "    curr = 0.0\n",
    "    counter = 0\n",
    "    for i in range(len(S)):\n",
    "        if curr >= limit:\n",
    "            break\n",
    "        curr += var[i,i]\n",
    "        counter += 1\n",
    "    return counter"
   ]
  },
  {
   "cell_type": "code",
   "execution_count": 34,
   "metadata": {},
   "outputs": [],
   "source": [
    "# Generic Test Case for pc_needed\n",
    "limit = 0.57\n",
    "U = np.array([[-0.1, 0.1, -0.1, -0.1, -0.1, 0.0, -0.3, 0.0, -0.6], [0.1, -0.5, 0.1, 0.1, 0.2, 0.1, -0.4, 0.2, 0.0], [0.2, 0.2, -0.1, 0.7, 0.3, -0.1, 0.3, 0.1, -0.4], [0.1, -0.1, -0.2, 0.0, -0.1, 0.0, 0.2, 0.1, 0.2], [-0.2, 0.0, -0.1, 0.4, -0.1, -0.2, -0.4, 0.1, 0.4], [0.1, -0.3, -0.1, -0.2, 0.2, -0.3, 0.0, 0.1, 0.0], [-0.4, 0.2, 0.0, -0.1, 0.2, 0.4, -0.3, 0.2, -0.1], [0.2, -0.3, -0.3, -0.2, 0.4, -0.2, 0.0, 0.1, 0.1], [0.6, 0.3, -0.2, 0.0, -0.2, 0.1, -0.3, 0.1, 0.1], [0.0, -0.1, 0.1, -0.3, -0.4, -0.2, 0.2, 0.5, -0.1], [-0.4, 0.1, -0.2, 0.0, 0.1, 0.0, 0.2, 0.4, 0.1], [0.3, 0.2, 0.3, -0.2, 0.3, 0.1, -0.1, 0.3, -0.1], [0.3, 0.2, 0.2, -0.2, -0.1, 0.0, 0.0, -0.4, 0.1], [-0.2, 0.0, 0.3, -0.2, 0.4, -0.4, 0.0, -0.2, 0.0], [-0.1, 0.3, -0.4, -0.1, -0.1, -0.4, -0.1, -0.1, -0.2], [0.0, 0.0, -0.6, -0.2, 0.2, 0.4, 0.1, -0.2, 0.0], [0.0, 0.0, -0.1, 0.0, -0.1, -0.4, -0.4, -0.1, -0.2], [-0.1, -0.5, 0.1, 0.1, -0.2, 0.2, 0.0, -0.3, -0.3]])\n",
    "S = np.array([[39,  0,  0,  0,  0,  0,  0,  0,  0], [ 0, 36,  0,  0,  0,  0,  0,  0,  0], [ 0,  0, 32,  0,  0,  0,  0,  0,  0], [ 0,  0,  0, 25,  0,  0,  0,  0,  0], [ 0,  0,  0,  0, 24,  0,  0,  0,  0], [ 0,  0,  0,  0,  0, 23,  0,  0,  0], [ 0,  0,  0,  0,  0,  0, 17,  0,  0], [ 0,  0,  0,  0,  0,  0,  0, 12,  0], [ 0,  0,  0,  0,  0,  0,  0,  0,  6]])\n",
    "V = np.array([[-0.5, -0.1, 0.6, 0.1, -0.2, 0.2, 0.5, -0.2, -0.1], [0.2, -0.1, 0.2, -0.5, -0.7, -0.4, 0.0, 0.0, 0.1], [0.0, -0.5, 0.1, 0.4, -0.1, 0.1, -0.3, -0.3, 0.6], [-0.5, 0.6, -0.3, 0.3, -0.2, -0.3, 0.0, 0.0, 0.3], [-0.1, -0.2, -0.7, -0.1, -0.3, 0.2, 0.3, -0.4, -0.2], [0.3, -0.1, 0.0, 0.0, 0.4, -0.3, 0.7, -0.2, 0.4], [0.1, -0.3, 0.0, 0.6, -0.1, -0.5, 0.0, 0.0, -0.5], [0.0, 0.2, 0.2, -0.2, 0.3, -0.2, -0.3, -0.8, -0.2], [0.6, 0.5, 0.1, 0.4, -0.3, 0.3, 0.1, -0.2, 0.0]])\n",
    "expected = 3\n",
    "actual = pc_needed(U, S, V, 0.57)\n",
    "assert expected == actual"
   ]
  },
  {
   "cell_type": "code",
   "execution_count": 37,
   "metadata": {},
   "outputs": [],
   "source": [
    "def singular_values_for_pca_mean(X):\n",
    "    '''\n",
    "    Designed specifically for exam quesiton\n",
    "    \"Singular Values for PCA Mean\"\n",
    "    '''\n",
    "    X_zeroed = center_data(X)\n",
    "    U, S, Vh = la.svd(X_zeroed)\n",
    "    return X_zeroed, S[-1]"
   ]
  },
  {
   "cell_type": "code",
   "execution_count": 35,
   "metadata": {},
   "outputs": [
    {
     "data": {
      "text/plain": [
       "array([[1.        , 0.70710678],\n",
       "       [0.        , 0.70710678]])"
      ]
     },
     "execution_count": 35,
     "metadata": {},
     "output_type": "execute_result"
    }
   ],
   "source": [
    "# Workspace\n",
    "A = np.array([[9, -4], [0, 5]])\n",
    "v, w = la.eig(A)\n",
    "w"
   ]
  },
  {
   "cell_type": "code",
   "execution_count": 39,
   "metadata": {},
   "outputs": [
    {
     "name": "stdout",
     "output_type": "stream",
     "text": [
      "[[-0.55525  0.40575  0.66125]\n",
      " [-1.28225 -0.72525  0.47025]\n",
      " [ 0.96975  1.51675 -0.11675]\n",
      " [ 0.86775 -1.19725 -1.01475]]\n",
      "0.14317511289838647\n"
     ]
    }
   ],
   "source": [
    "# Workspace 2\n",
    "X = np.array([[-0.691, 0.721, 0.791], [-1.418, -0.410, 0.600], [0.834, 1.832, 0.013], [0.732, -0.882, -0.885]])\n",
    "mat, sca = singular_values_for_pca_mean(X)\n",
    "print(mat)\n",
    "print(sca)"
   ]
  },
  {
   "cell_type": "code",
   "execution_count": null,
   "metadata": {},
   "outputs": [],
   "source": []
  }
 ],
 "metadata": {
  "kernelspec": {
   "display_name": "Python 3",
   "language": "python",
   "name": "python3"
  },
  "language_info": {
   "codemirror_mode": {
    "name": "ipython",
    "version": 3
   },
   "file_extension": ".py",
   "mimetype": "text/x-python",
   "name": "python",
   "nbconvert_exporter": "python",
   "pygments_lexer": "ipython3",
   "version": "3.8.12"
  }
 },
 "nbformat": 4,
 "nbformat_minor": 4
}
