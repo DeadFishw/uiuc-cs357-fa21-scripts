{
 "cells": [
  {
   "cell_type": "code",
   "execution_count": 1,
   "id": "5e4e310d",
   "metadata": {},
   "outputs": [],
   "source": [
    "import numpy as np\n",
    "import numpy.linalg as la"
   ]
  },
  {
   "cell_type": "code",
   "execution_count": 3,
   "id": "dd34a367",
   "metadata": {},
   "outputs": [],
   "source": [
    "A = np.array([[2, 200],[4, 500], [5, 300]])\n",
    "b = np.array([200, 700, 200])\n",
    "c = la.lstsq(A, b, rcond=None)[0]"
   ]
  },
  {
   "cell_type": "code",
   "execution_count": 4,
   "id": "606d322e",
   "metadata": {},
   "outputs": [
    {
     "data": {
      "text/plain": [
       "241.26984126984127"
      ]
     },
     "execution_count": 4,
     "metadata": {},
     "output_type": "execute_result"
    }
   ],
   "source": [
    "c@np.array([2, 200])"
   ]
  },
  {
   "cell_type": "markdown",
   "id": "8aacb7ec",
   "metadata": {},
   "source": [
    "### V is eigenvectors of ATA (right)\n",
    "### U is eigenvectors of AAT (left)\n",
    "### A = PDP-1\n",
    "### P eigenvector; D eigenvalues"
   ]
  },
  {
   "cell_type": "markdown",
   "id": "e222686a",
   "metadata": {},
   "source": [
    "## LHS normal equations "
   ]
  },
  {
   "cell_type": "code",
   "execution_count": 51,
   "id": "b01651ed",
   "metadata": {},
   "outputs": [
    {
     "data": {
      "text/plain": [
       "array([[ 0.90929743,  1.41421356],\n",
       "       [-0.7568025 ,  2.        ],\n",
       "       [-0.2794155 ,  2.44948974]])"
      ]
     },
     "execution_count": 51,
     "metadata": {},
     "output_type": "execute_result"
    }
   ],
   "source": [
    "t = np.array([2, 4, 6])\n",
    "t_new = np.vstack((np.sin(t), np.sqrt(t))).T\n",
    "t_new"
   ]
  },
  {
   "cell_type": "code",
   "execution_count": 52,
   "id": "4132d5ce",
   "metadata": {},
   "outputs": [
    {
     "data": {
      "text/plain": [
       "array([[ 1.47764485, -0.91208963],\n",
       "       [-0.91208963, 12.        ]])"
      ]
     },
     "execution_count": 52,
     "metadata": {},
     "output_type": "execute_result"
    }
   ],
   "source": [
    "M = t_new.T@t_new\n",
    "M"
   ]
  },
  {
   "cell_type": "markdown",
   "id": "049b4e6e",
   "metadata": {},
   "source": [
    "## least squares linear "
   ]
  },
  {
   "cell_type": "code",
   "execution_count": 36,
   "id": "891320ca",
   "metadata": {},
   "outputs": [
    {
     "data": {
      "text/plain": [
       "array([ 3.89221487, -0.77380207])"
      ]
     },
     "execution_count": 36,
     "metadata": {},
     "output_type": "execute_result"
    }
   ],
   "source": [
    "t = np.array([-3, 3, -0.2, 2.1])\n",
    "y = np.array([-12.7, 10.9, -1, 5.1])\n",
    "\n",
    "x1 = t.copy()\n",
    "x0 = np.ones(t.shape[0])\n",
    "\n",
    "X = np.vstack([x1, x0]).T\n",
    "\n",
    "c = la.lstsq(X, y, rcond=None)[0]\n",
    "c"
   ]
  },
  {
   "cell_type": "markdown",
   "id": "d5653d5c",
   "metadata": {},
   "source": [
    "## quadratic fit "
   ]
  },
  {
   "cell_type": "code",
   "execution_count": 41,
   "id": "dc13b957",
   "metadata": {},
   "outputs": [
    {
     "name": "stderr",
     "output_type": "stream",
     "text": [
      "<ipython-input-41-8cfd6f4a3cfc>:8: FutureWarning: `rcond` parameter will change to the default of machine precision times ``max(M, N)`` where M and N are the input matrix dimensions.\n",
      "To use the future default and silence this warning we advise to pass `rcond=None`, to keep using the old, explicitly pass `rcond=-1`.\n",
      "  coeffs = la.lstsq(A, y)[0]\n"
     ]
    },
    {
     "data": {
      "text/plain": [
       "array([4.24728803, 1.92177718])"
      ]
     },
     "execution_count": 41,
     "metadata": {},
     "output_type": "execute_result"
    }
   ],
   "source": [
    "import numpy as np\n",
    "\n",
    "t = np.array([4, -4.2, 2.1])\n",
    "y = np.array([48.3, 15.9, 16])\n",
    "\n",
    "A = np.vstack([t, t**2]).T\n",
    "\n",
    "coeffs = la.lstsq(A, y)[0]\n",
    "coeffs"
   ]
  },
  {
   "cell_type": "markdown",
   "id": "1ba8df05",
   "metadata": {},
   "source": [
    "## least squares nonlinear"
   ]
  },
  {
   "cell_type": "code",
   "execution_count": 12,
   "id": "c99b08ce",
   "metadata": {},
   "outputs": [],
   "source": [
    "import numpy as np\n",
    "\n",
    "x3 = study_time\t**3\n",
    "x2 = (study_time+ 1)**2\n",
    "x1 = np.sqrt(study_time)\n",
    "x0 = np.ones(study_time.shape[0])\n",
    "\n",
    "X = np.vstack([x3, x2, x1, x0]).T\n",
    "\n",
    "#coeffs = la.lstsq(X, scores)[0]"
   ]
  },
  {
   "cell_type": "markdown",
   "id": "b8e3d68d",
   "metadata": {},
   "source": [
    "## exp fit "
   ]
  },
  {
   "cell_type": "code",
   "execution_count": null,
   "id": "4025ef49",
   "metadata": {},
   "outputs": [],
   "source": [
    "x1 = np.arange(population.shape[0])\n",
    "x0 = np.ones(population.shape[0])\n",
    "\n",
    "X = np.vstack([x1, x0]).T\n",
    "lgy = np.log(population)\n",
    "\n",
    "c1, lgc0 = la.lstsq(X, lgy)[0]\n",
    "c0 = np.exp(lgc0)"
   ]
  },
  {
   "cell_type": "markdown",
   "id": "54c5faf7",
   "metadata": {},
   "source": [
    "# least squares and predict"
   ]
  },
  {
   "cell_type": "code",
   "execution_count": null,
   "id": "b0685ddf",
   "metadata": {},
   "outputs": [],
   "source": [
    "x1 = given_year\n",
    "x0 = np.ones(given_year.shape[0])\n",
    "X = np.vstack([x1, x0]).T\n",
    "\n",
    "c1, c0 = la.lstsq(X, given_sales)[0]\n",
    "\n",
    "pred_sales = pred_year * c1 + c0"
   ]
  },
  {
   "cell_type": "markdown",
   "id": "9ded29db",
   "metadata": {},
   "source": [
    "## left right multiply "
   ]
  },
  {
   "cell_type": "code",
   "execution_count": 14,
   "id": "0045c618",
   "metadata": {},
   "outputs": [
    {
     "data": {
      "text/plain": [
       "array([[1.        , 0.        , 0.        , 0.        , 0.        ],\n",
       "       [0.        , 0.5       , 0.        , 0.        , 0.        ],\n",
       "       [0.        , 0.        , 0.33333333, 0.        , 0.        ],\n",
       "       [0.        , 0.        , 0.        , 0.25      , 0.        ],\n",
       "       [0.        , 0.        , 0.        , 0.        , 0.2       ]])"
      ]
     },
     "execution_count": 14,
     "metadata": {},
     "output_type": "execute_result"
    }
   ],
   "source": [
    "sigma = [1, 2, 3, 4, 5]\n",
    "sig_inv = la.inv(np.diag(sigma))\n",
    "x = left_multiply_with_V(sig_inv@right_multiply_with_U(b.T).T)"
   ]
  },
  {
   "cell_type": "markdown",
   "id": "fe475420",
   "metadata": {},
   "source": [
    "## pinv without la "
   ]
  },
  {
   "cell_type": "code",
   "execution_count": 20,
   "id": "db5ee8c8",
   "metadata": {},
   "outputs": [
    {
     "data": {
      "text/plain": [
       "array([[1.        , 0.        , 0.        , 0.        , 0.        ],\n",
       "       [0.        , 0.5       , 0.        , 0.        , 0.        ],\n",
       "       [0.        , 0.        , 0.33333333, 0.        , 0.        ],\n",
       "       [0.        , 0.        , 0.        , 0.        , 0.        ]])"
      ]
     },
     "execution_count": 20,
     "metadata": {},
     "output_type": "execute_result"
    }
   ],
   "source": [
    "sigma = np.array([1, 2, 3])\n",
    "sigma_inv = np.diag(1 / sigma)\n",
    "m, n = 5, 4\n",
    "pinv = np.zeros((5, 4))\n",
    "pinv[:sigma_inv.shape[0], :sigma_inv.shape[1]] = sigma_inv\n",
    "pinv = pinv.T\n",
    "pinv"
   ]
  },
  {
   "cell_type": "markdown",
   "id": "14eca787",
   "metadata": {},
   "source": [
    "## solve least square with svd"
   ]
  },
  {
   "cell_type": "code",
   "execution_count": 47,
   "id": "d94a1440",
   "metadata": {},
   "outputs": [
    {
     "data": {
      "text/plain": [
       "array([-0.32475953, -0.1875    ])"
      ]
     },
     "execution_count": 47,
     "metadata": {},
     "output_type": "execute_result"
    }
   ],
   "source": [
    "b = np.array([3, 0])\n",
    "U = np.array([[1, 0], [0, -1]])\n",
    "sig = [8, 0]\n",
    "Vt = np.array([[-np.sqrt(3)/2, -1/2],\n",
    "               [1/2, -np.sqrt(3)/2],\n",
    "              ])\n",
    "sig_plus = la.pinv(np.diag(sig))\n",
    "x = Vt.T@sig_plus@U.T@b\n",
    "x"
   ]
  },
  {
   "cell_type": "markdown",
   "id": "7e5abc95",
   "metadata": {},
   "source": [
    "## number of values "
   ]
  },
  {
   "cell_type": "code",
   "execution_count": 44,
   "id": "51322998",
   "metadata": {},
   "outputs": [
    {
     "data": {
      "text/plain": [
       "484"
      ]
     },
     "execution_count": 44,
     "metadata": {},
     "output_type": "execute_result"
    }
   ],
   "source": [
    "r = 4\n",
    "m = 74\n",
    "n = 46\n",
    "m * r + r + n * r"
   ]
  },
  {
   "cell_type": "code",
   "execution_count": 50,
   "id": "84a3edfa",
   "metadata": {},
   "outputs": [
    {
     "data": {
      "text/plain": [
       "6"
      ]
     },
     "execution_count": 50,
     "metadata": {},
     "output_type": "execute_result"
    }
   ],
   "source": [
    "len(set([11, 7, 6, 10, 6.5, 9.5, 10]))"
   ]
  },
  {
   "cell_type": "code",
   "execution_count": null,
   "id": "5d9f8d9c",
   "metadata": {},
   "outputs": [],
   "source": []
  }
 ],
 "metadata": {
  "kernelspec": {
   "display_name": "Python 3",
   "language": "python",
   "name": "python3"
  },
  "language_info": {
   "codemirror_mode": {
    "name": "ipython",
    "version": 3
   },
   "file_extension": ".py",
   "mimetype": "text/x-python",
   "name": "python",
   "nbconvert_exporter": "python",
   "pygments_lexer": "ipython3",
   "version": "3.8.3"
  }
 },
 "nbformat": 4,
 "nbformat_minor": 5
}
