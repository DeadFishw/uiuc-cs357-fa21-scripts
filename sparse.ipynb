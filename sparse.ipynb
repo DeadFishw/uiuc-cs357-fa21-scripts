{
 "cells": [
  {
   "cell_type": "code",
   "execution_count": 21,
   "metadata": {},
   "outputs": [],
   "source": [
    "import numpy as np"
   ]
  },
  {
   "cell_type": "code",
   "execution_count": 22,
   "metadata": {},
   "outputs": [],
   "source": [
    "def CSR_to_DNS(data, col, rowptr, shape):\n",
    "    A = np.zeros(shape)\n",
    "    counter = 0\n",
    "    row = 0\n",
    "    for i in range(len(data)):\n",
    "        while counter >= rowptr[row+1]:\n",
    "            row += 1\n",
    "        A[row][col[i]] = data[i]\n",
    "        counter += 1\n",
    "    return A"
   ]
  },
  {
   "cell_type": "code",
   "execution_count": 23,
   "metadata": {},
   "outputs": [],
   "source": [
    "def DNS_to_CSR(A):\n",
    "    data = []\n",
    "    col = []\n",
    "    rowptr = [0]\n",
    "    shape = A.shape\n",
    "    counter = 0\n",
    "    for i in range(shape[0]):\n",
    "        for j in range(shape[1]):\n",
    "            element = A[i][j]\n",
    "            if element != 0:\n",
    "                counter += 1\n",
    "                data.append(element)\n",
    "                col.append(j)\n",
    "        rowptr.append(counter)\n",
    "    return data, col, rowptr, shape"
   ]
  },
  {
   "cell_type": "code",
   "execution_count": 28,
   "metadata": {},
   "outputs": [],
   "source": [
    "def DNS_to_COO(A):\n",
    "    data = []\n",
    "    row = []\n",
    "    col = []\n",
    "    shape = A.shape\n",
    "    for i in range(shape[0]):\n",
    "        for j in range(shape[1]):\n",
    "            element = A[i][j]\n",
    "            if element != 0:\n",
    "                data.append(element)\n",
    "                row.append(i)\n",
    "                col.append(j)\n",
    "    return data, col, row, shape"
   ]
  },
  {
   "cell_type": "code",
   "execution_count": 31,
   "metadata": {},
   "outputs": [],
   "source": [
    "def COO_to_DNS(data, col, row, shape):\n",
    "    A = np.zeros(shape)\n",
    "    for i in range(len(data)):\n",
    "        A[row[i]][col[i]] = data[i]\n",
    "    return A"
   ]
  },
  {
   "cell_type": "code",
   "execution_count": 24,
   "metadata": {},
   "outputs": [],
   "source": [
    "# Test case: Square CSR to DNS\n",
    "data = [1.0, 2.0]\n",
    "col = [3, 2]\n",
    "rowptr = [0, 0, 0, 1, 2]\n",
    "shape = (4, 4)\n",
    "expected = np.zeros(shape)\n",
    "expected[2][3] = 1.0\n",
    "expected[3][2] = 2.0\n",
    "actual = CSR_to_DNS(data, col, rowptr, shape)\n",
    "assert (expected == actual).all()"
   ]
  },
  {
   "cell_type": "code",
   "execution_count": 25,
   "metadata": {},
   "outputs": [],
   "source": [
    "# Test case: Square DNS to CSR\n",
    "A = np.zeros((4, 4))\n",
    "A[2][3] = 1.0\n",
    "A[3][2] = 2.0\n",
    "expected_data = [1.0, 2.0]\n",
    "expected_col = [3, 2]\n",
    "expected_rowptr = [0, 0, 0, 1, 2]\n",
    "expected_shape = (4, 4)\n",
    "actual_data, actual_col, actual_rowptr, actual_shape = DNS_to_CSR(A)\n",
    "assert expected_data == actual_data\n",
    "assert expected_col == actual_col\n",
    "assert expected_rowptr == actual_rowptr\n",
    "assert expected_shape == actual_shape"
   ]
  },
  {
   "cell_type": "code",
   "execution_count": 35,
   "metadata": {},
   "outputs": [],
   "source": [
    "# Test case: Square COO to DNS\n",
    "data = [1.0, 2.0]\n",
    "col = [3, 2]\n",
    "row = [2, 3]\n",
    "shape = (4, 4)\n",
    "expected = np.zeros((4, 4))\n",
    "expected[2][3] = 1.0\n",
    "expected[3][2] = 2.0\n",
    "actual = COO_to_DNS(data, col, row, shape)\n",
    "assert np.array_equal(expected, actual)"
   ]
  },
  {
   "cell_type": "code",
   "execution_count": 29,
   "metadata": {},
   "outputs": [],
   "source": [
    "# Test case: Square DNS to COO\n",
    "A = np.zeros((4, 4))\n",
    "A[2][3] = 1.0\n",
    "A[3][2] = 2.0\n",
    "expected_data = [1.0, 2.0]\n",
    "expected_col = [3, 2]\n",
    "expected_row = [2, 3]\n",
    "expected_shape = (4, 4)\n",
    "actual_data, actual_col, actual_row, actual_shape = DNS_to_COO(A)\n",
    "assert expected_data == actual_data\n",
    "assert expected_col == actual_col\n",
    "assert expected_rowptr == actual_rowptr\n",
    "assert expected_shape == actual_shape"
   ]
  }
 ],
 "metadata": {
  "kernelspec": {
   "display_name": "Python 3",
   "language": "python",
   "name": "python3"
  },
  "language_info": {
   "codemirror_mode": {
    "name": "ipython",
    "version": 3
   },
   "file_extension": ".py",
   "mimetype": "text/x-python",
   "name": "python",
   "nbconvert_exporter": "python",
   "pygments_lexer": "ipython3",
   "version": "3.8.12"
  }
 },
 "nbformat": 4,
 "nbformat_minor": 4
}
