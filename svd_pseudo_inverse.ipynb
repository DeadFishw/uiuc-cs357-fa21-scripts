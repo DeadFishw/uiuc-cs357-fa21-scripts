{
 "cells": [
  {
   "cell_type": "code",
   "execution_count": 21,
   "metadata": {},
   "outputs": [],
   "source": [
    "import numpy as np\n",
    "import numpy.linalg as la"
   ]
  },
  {
   "cell_type": "code",
   "execution_count": 22,
   "metadata": {},
   "outputs": [],
   "source": [
    "def svd_pseudo_inverse(U, sigma, V):\n",
    "    '''\n",
    "    I'll just assume that you are a nice kid and knows to pass in nice data\n",
    "    '''\n",
    "    sigma_plus = np.copy(sigma.T)\n",
    "    for i in range(sigma_plus.shape[0]):\n",
    "        for j in range(sigma_plus.shape[1]):\n",
    "            if sigma_plus[i][j] == 0:\n",
    "                continue\n",
    "            else:\n",
    "                sigma_plus[i][j] = 1 / sigma_plus[i][j]\n",
    "    return V @ sigma_plus @ U.T"
   ]
  },
  {
   "cell_type": "code",
   "execution_count": 29,
   "metadata": {},
   "outputs": [],
   "source": [
    "# Generic Test Case\n",
    "U = np.array([\n",
    "    [-0.29, -0.05, 0.95, -0.12],\n",
    "    [-0.06, -0.79, 0.02, 0.61],\n",
    "    [-0.55, -0.46, -0.27, -0.65],\n",
    "    [-0.79, 0.40, -0.16, 0.44]\n",
    "])\n",
    "sigma = np.array([\n",
    "    [7, 0, 0],\n",
    "    [0, 5, 0],\n",
    "    [0, 0, 0],\n",
    "    [0, 0, 0]\n",
    "])\n",
    "V = np.array([\n",
    "    [-0.32, 0.28, -0.90],\n",
    "    [-0.67, -0.74, 0.01],\n",
    "    [-0.67, 0.61, 0.43]\n",
    "])\n",
    "expected = np.array([\n",
    "    [0.0105, -0.0415, -0.000617, 0.0585],\n",
    "    [0.0352, 0.123, 0.131, 0.0164],\n",
    "    [0.0217, -0.0906, -0.00348, 0.124]\n",
    "])\n",
    "actual = svd_pseudo_inverse(U, sigma.astype(float), V)\n",
    "tol = 10**-3\n",
    "assert la.norm(expected - actual, 'fro') / expected.shape[0] / expected.shape[1] < tol"
   ]
  }
 ],
 "metadata": {
  "kernelspec": {
   "display_name": "Python 3",
   "language": "python",
   "name": "python3"
  },
  "language_info": {
   "codemirror_mode": {
    "name": "ipython",
    "version": 3
   },
   "file_extension": ".py",
   "mimetype": "text/x-python",
   "name": "python",
   "nbconvert_exporter": "python",
   "pygments_lexer": "ipython3",
   "version": "3.8.12"
  }
 },
 "nbformat": 4,
 "nbformat_minor": 4
}
