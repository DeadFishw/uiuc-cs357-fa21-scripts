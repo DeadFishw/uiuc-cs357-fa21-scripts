{
 "cells": [
  {
   "cell_type": "code",
   "execution_count": 4,
   "metadata": {},
   "outputs": [],
   "source": [
    "import numpy as np\n",
    "import numpy.linalg as la"
   ]
  },
  {
   "cell_type": "code",
   "execution_count": 5,
   "metadata": {},
   "outputs": [],
   "source": [
    "def recover_markov(A, missing_row, missing_col, x_prev, x_post):\n",
    "    '''\n",
    "    Given a Markov matrix A,\n",
    "    x_{k} and x_{k+1} satisfying A@x_{k} = x_{k+1},\n",
    "    with missing row and col set to 0,\n",
    "    recover its original form.\n",
    "    '''\n",
    "    n_row = A.shape[0]\n",
    "    n_col = A.shape[1]\n",
    "    A_complete = np.copy(A)\n",
    "    for i in range(n_col):\n",
    "        if i != missing_col:\n",
    "            A_complete[missing_row][i] = 1 - np.sum(A_complete[:,i])\n",
    "    for i in range(n_row):\n",
    "        A_complete[i][missing_col] = (x_post[i] - np.inner(A_complete[i], x_prev)) / x_prev[missing_col]\n",
    "    return A_complete"
   ]
  },
  {
   "cell_type": "code",
   "execution_count": 14,
   "metadata": {},
   "outputs": [],
   "source": [
    "# Test case: Square Matrix Recovery\n",
    "A = np.random.rand(4, 4)\n",
    "missing_row = 1\n",
    "missing_col = 1\n",
    "for i in range(A.shape[1]):\n",
    "    A[:,i] /= np.sqrt(np.sum(A[:,i])**2)\n",
    "x_prev = np.random.rand(4)\n",
    "x_post = A@x_prev\n",
    "expected = np.array(np.copy(A), dtype='float32')\n",
    "A[missing_row,:] = 0\n",
    "A[:,missing_col] = 0\n",
    "actual = np.array(recover_markov(A, missing_row, missing_col, x_prev, x_post), dtype='float32')\n",
    "assert np.array_equal(expected, actual)"
   ]
  }
 ],
 "metadata": {
  "kernelspec": {
   "display_name": "Python 3",
   "language": "python",
   "name": "python3"
  },
  "language_info": {
   "codemirror_mode": {
    "name": "ipython",
    "version": 3
   },
   "file_extension": ".py",
   "mimetype": "text/x-python",
   "name": "python",
   "nbconvert_exporter": "python",
   "pygments_lexer": "ipython3",
   "version": "3.8.12"
  }
 },
 "nbformat": 4,
 "nbformat_minor": 4
}
