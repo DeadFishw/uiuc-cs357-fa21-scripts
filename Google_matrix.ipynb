{
 "cells": [
  {
   "cell_type": "code",
   "execution_count": 55,
   "metadata": {},
   "outputs": [],
   "source": [
    "import numpy as np"
   ]
  },
  {
   "cell_type": "code",
   "execution_count": 56,
   "metadata": {},
   "outputs": [],
   "source": [
    "def graph_to_Gmat(g, damping_factor):\n",
    "    Gmat = np.zeros(g.shape)\n",
    "    for i in range(g.shape[0]):\n",
    "        for j in range(g.shape[1]):\n",
    "            if np.sum(g[:,j]) == 0:\n",
    "                Gmat[i][j] = 1/g.shape[0]\n",
    "            else:\n",
    "                Gmat[i][j] = (1-damping_factor)/g.shape[1]+damping_factor/np.sum(g[:,j])*g[i][j]\n",
    "    return Gmat"
   ]
  },
  {
   "cell_type": "code",
   "execution_count": 59,
   "metadata": {},
   "outputs": [],
   "source": [
    "# Test case: Node with no out\n",
    "g = np.array([\n",
    "    [0, 1, 1, 0],\n",
    "    [1, 0, 0, 0],\n",
    "    [0, 0, 0, 0],\n",
    "    [0, 0, 1, 0]\n",
    "])\n",
    "a = 0.85\n",
    "expected = np.array([\n",
    "    [0.0375, 0.8875, 0.4625, 0.25],\n",
    "    [0.8875, 0.0375, 0.0375, 0.25],\n",
    "    [0.0375, 0.0375, 0.0375, 0.25],\n",
    "    [0.0375, 0.0375, 0.4625, 0.25]\n",
    "], dtype='float32')\n",
    "actual = np.array(graph_to_Gmat(g, a), dtype='float32')\n",
    "assert np.array_equal(expected, actual)"
   ]
  },
  {
   "cell_type": "code",
   "execution_count": 60,
   "metadata": {},
   "outputs": [],
   "source": [
    "# Test case: Node with no out\n",
    "g = np.array([\n",
    "    [0, 1, 1, 1],\n",
    "    [0, 0, 1, 1],\n",
    "    [1, 1, 0, 0],\n",
    "    [1, 1, 0, 0]\n",
    "])\n",
    "a = 0.9\n",
    "expected = np.array([\n",
    "    [0.025, 0.325, 0.475, 0.475],\n",
    "    [0.025, 0.025, 0.475, 0.475],\n",
    "    [0.475, 0.325, 0.025, 0.025],\n",
    "    [0.475, 0.325, 0.025, 0.025]\n",
    "], dtype='float32')\n",
    "actual = np.array(graph_to_Gmat(g, a), dtype='float32')\n",
    "assert np.array_equal(expected, actual)"
   ]
  },
  {
   "cell_type": "code",
   "execution_count": 61,
   "metadata": {},
   "outputs": [
    {
     "name": "stdout",
     "output_type": "stream",
     "text": [
      "[[0.05 0.45 0.25 0.05]\n",
      " [0.45 0.05 0.25 0.85]\n",
      " [0.05 0.05 0.25 0.05]\n",
      " [0.45 0.45 0.25 0.05]]\n"
     ]
    }
   ],
   "source": [
    "graph = np.array([\n",
    "    [0, 1, 0, 0],\n",
    "    [1, 0, 0, 1],\n",
    "    [0, 0, 0, 0],\n",
    "    [1, 1, 0, 0]\n",
    "])\n",
    "a = 0.8\n",
    "print(graph_to_Gmat(graph, a))"
   ]
  },
  {
   "cell_type": "code",
   "execution_count": null,
   "metadata": {},
   "outputs": [],
   "source": []
  }
 ],
 "metadata": {
  "kernelspec": {
   "display_name": "Python 3",
   "language": "python",
   "name": "python3"
  },
  "language_info": {
   "codemirror_mode": {
    "name": "ipython",
    "version": 3
   },
   "file_extension": ".py",
   "mimetype": "text/x-python",
   "name": "python",
   "nbconvert_exporter": "python",
   "pygments_lexer": "ipython3",
   "version": "3.8.12"
  }
 },
 "nbformat": 4,
 "nbformat_minor": 4
}
